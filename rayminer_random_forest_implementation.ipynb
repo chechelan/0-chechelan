{
  "nbformat": 4,
  "nbformat_minor": 0,
  "metadata": {
    "colab": {
      "provenance": [],
      "authorship_tag": "ABX9TyNonZjGnkCVmnnxDa47sAaR",
      "include_colab_link": true
    },
    "kernelspec": {
      "name": "python3",
      "display_name": "Python 3"
    },
    "language_info": {
      "name": "python"
    }
  },
  "cells": [
    {
      "cell_type": "markdown",
      "metadata": {
        "id": "view-in-github",
        "colab_type": "text"
      },
      "source": [
        "<a href=\"https://colab.research.google.com/github/chechelan/0-chechelan/blob/main/rayminer_random_forest_implementation.ipynb\" target=\"_parent\"><img src=\"https://colab.research.google.com/assets/colab-badge.svg\" alt=\"Open In Colab\"/></a>"
      ]
    },
    {
      "cell_type": "code",
      "execution_count": null,
      "metadata": {
        "id": "qyFegBOx2bSE"
      },
      "outputs": [],
      "source": [
        "import requests\n",
        "import pandas as pd\n",
        "import joblib\n",
        "\n",
        "# Load the previously saved model\n",
        "clf_best = joblib.load('random_forest_model.pkl')\n",
        "\n",
        "api_key = \"26NKG48ALQA5LNWCUCW6FFLTU\"\n",
        "\n",
        "def get_hourly_weather_data(location, date_range, api_key):\n",
        "    all_data = []\n",
        "    url = f\"https://weather.visualcrossing.com/VisualCrossingWebServices/rest/services/timeline/{location}/{date_range}?unitGroup=metric&include=hours&key={api_key}&contentType=json\"\n",
        "    response = requests.get(url)\n",
        "\n",
        "    if response.status_code != 200:\n",
        "        print(f'Unexpected status code for {location}:', response.status_code)\n",
        "        return None\n",
        "\n",
        "    jsonData = response.json()\n",
        "\n",
        "    # Extract hourly data\n",
        "    for day in jsonData['days']:\n",
        "        for hour in day['hours']:\n",
        "            all_data.append({\n",
        "                'city': location,\n",
        "                'date': day['datetime'],\n",
        "                'datetime': hour['datetime'],\n",
        "                'uvindex': hour['uvindex'],\n",
        "                'temp': hour['temp'],\n",
        "                'conditions': hour['conditions'],\n",
        "                'icon': hour['icon'],\n",
        "                'cloudcover': hour['cloudcover']\n",
        "            })\n",
        "\n",
        "    return pd.DataFrame(all_data)\n",
        "\n",
        "def predict_reminder(api_key):\n",
        "    # 1. User Input\n",
        "    age = int(input(\"Enter your age: \"))\n",
        "    gender = input(\"Enter your gender (male/female): \")\n",
        "    skintype = int(input(\"Enter your skin type (1-6): \"))\n",
        "    makeup = input(\"Do you wear makeup (yes/no): \")\n",
        "    where = input(\"Where are you (indoors/outdoors): \")\n",
        "    SPF = int(input(\"Enter the SPF value of your sunscreen: \"))\n",
        "    forwhom = input(\"Is this sunscreen for yourself or a child (myself/child): \")\n",
        "    location = input(\"Enter your location (city, country): \")\n",
        "    hour_of_interest = input(\"Enter the hour of interest (e.g. '14:00'): \")\n",
        "\n",
        "    # 2. Fetch Hourly Weather Data\n",
        "    today = pd.Timestamp.now().strftime('%Y-%m-%d')\n",
        "    hourly_data = get_hourly_weather_data(location, today, api_key)\n",
        "    hour_data = hourly_data[hourly_data['datetime'] == f\"{today}T{hour_of_interest}:00\"]\n",
        "\n",
        "    # Ensure we have data for the specified hour\n",
        "    if hour_data.empty:\n",
        "        print(f\"No data available for {hour_of_interest} hour.\")\n",
        "        return None\n",
        "\n",
        "    # Add user input to the data\n",
        "    hour_data['age'] = age\n",
        "    hour_data['gender'] = gender\n",
        "    hour_data['skintype'] = skintype\n",
        "    hour_data['makeup'] = makeup\n",
        "    hour_data['where'] = where\n",
        "    hour_data['SPF'] = SPF\n",
        "    hour_data['forwhom'] = forwhom\n",
        "\n",
        "    # 3. Preprocess Data and Predict\n",
        "    processed_data = preprocess_new_data(hour_data, label_encoders)\n",
        "    prediction = clf_best.predict(processed_data)\n",
        "\n",
        "    return prediction[0]\n",
        "\n",
        "print(\"You should set a reminder:\", predict_reminder(api_key))"
      ]
    }
  ]
}