{
  "nbformat": 4,
  "nbformat_minor": 0,
  "metadata": {
    "colab": {
      "provenance": [],
      "authorship_tag": "ABX9TyPFZB5QVSmhpYPrMJqbwsek",
      "include_colab_link": true
    },
    "kernelspec": {
      "name": "python3",
      "display_name": "Python 3"
    },
    "language_info": {
      "name": "python"
    }
  },
  "cells": [
    {
      "cell_type": "markdown",
      "metadata": {
        "id": "view-in-github",
        "colab_type": "text"
      },
      "source": [
        "<a href=\"https://colab.research.google.com/github/chechelan/0-chechelan/blob/main/Week1_3Step_app_data_analysis.ipynb\" target=\"_parent\"><img src=\"https://colab.research.google.com/assets/colab-badge.svg\" alt=\"Open In Colab\"/></a>"
      ]
    },
    {
      "cell_type": "markdown",
      "source": [
        "### Inroduction\n",
        "- About notebook:This is week1 to week3 assignments, the goal is to Learn how to clean data and to investigate distributions\n",
        "- Dataset: data comes from activity trackers, for a study in France, over 900 volunteers received a Fitbit Zip (a clip-on activity tracker) and recorded their daily steps, distance and calories."
      ],
      "metadata": {
        "id": "npOBpzLN93Dn"
      }
    },
    {
      "cell_type": "markdown",
      "source": [
        "### Data cleaning"
      ],
      "metadata": {
        "id": "OqidNgVJRJhO"
      }
    },
    {
      "cell_type": "code",
      "source": [
        "# initiate google drive\n",
        "from google.colab import drive\n",
        "drive.mount('/content/gdrive')"
      ],
      "metadata": {
        "colab": {
          "base_uri": "https://localhost:8080/"
        },
        "id": "jrDJi6vQRTW4",
        "outputId": "976c7d87-53af-4c72-b958-d5ee9a6c2f33"
      },
      "execution_count": null,
      "outputs": [
        {
          "output_type": "stream",
          "name": "stdout",
          "text": [
            "Drive already mounted at /content/gdrive; to attempt to forcibly remount, call drive.mount(\"/content/gdrive\", force_remount=True).\n"
          ]
        }
      ]
    },
    {
      "cell_type": "code",
      "source": [
        "import pandas as pd\n",
        "import seaborn as sns\n",
        "import matplotlib.pyplot as plt #Useful to include matplotlib when plotting with Seaborn, because Seaborn is built on it.\n",
        "import math\n",
        "import sklearn as sk\n",
        "from sklearn.linear_model import LinearRegression\n",
        "from sklearn.model_selection import train_test_split\n",
        "from sklearn.metrics import mean_squared_error\n",
        "from sklearn.metrics import r2_score"
      ],
      "metadata": {
        "id": "v_CFsXj1UkNx"
      },
      "execution_count": null,
      "outputs": []
    },
    {
      "cell_type": "code",
      "source": [
        "# Read in and merge the two data sets (tip: think of different CSV formats that exist)\n",
        "df1 = pd.read_csv('gdrive/My Drive/steps.csv', sep=\";\")\n",
        "df2 = pd.read_csv('gdrive/My Drive/survey.csv')"
      ],
      "metadata": {
        "id": "h4R2ou_4RYzG"
      },
      "execution_count": null,
      "outputs": []
    },
    {
      "cell_type": "code",
      "source": [
        "df1.head()"
      ],
      "metadata": {
        "colab": {
          "base_uri": "https://localhost:8080/",
          "height": 314
        },
        "id": "6cWFJPf9W2jE",
        "outputId": "81f28992-9946-4c3f-8d3e-20582e107061"
      },
      "execution_count": null,
      "outputs": [
        {
          "output_type": "execute_result",
          "data": {
            "text/plain": [
              "   id  20-6-2013  21-6-2013  22-6-2013  23-6-2013  24-6-2013  25-6-2013  \\\n",
              "0   1        NaN        NaN        NaN        NaN     3941.0    15733.0   \n",
              "1   2        NaN        NaN    10473.0      705.0     4287.0     5507.0   \n",
              "2   3        NaN    11428.0    12523.0     2553.0      190.0     2164.0   \n",
              "3   4        NaN        NaN        NaN        NaN        NaN        NaN   \n",
              "4   5        NaN        NaN        NaN        NaN        NaN        NaN   \n",
              "\n",
              "   26-6-2013  27-6-2013  28-6-2013  ...  4-5-2014  5-5-2014  6-5-2014  \\\n",
              "0     9929.0    12879.0    10541.0  ...       NaN       NaN       NaN   \n",
              "1     4024.0     3926.0    14595.0  ...       NaN       NaN       NaN   \n",
              "2     8185.0     9630.0     8983.0  ...    3914.0    4364.0       NaN   \n",
              "3        NaN        NaN        NaN  ...       NaN       NaN       NaN   \n",
              "4        NaN        NaN        NaN  ...       NaN       NaN       NaN   \n",
              "\n",
              "   7-5-2014  8-5-2014  9-5-2014  10-5-2014  11-5-2014  12-5-2014  13-5-2014  \n",
              "0       NaN       NaN       NaN        NaN        NaN        NaN        NaN  \n",
              "1       NaN       NaN       NaN        NaN        NaN        NaN        NaN  \n",
              "2       NaN       NaN    6227.0     4567.0     2567.0     1129.0        NaN  \n",
              "3       NaN       NaN       NaN        NaN        NaN        NaN        NaN  \n",
              "4       NaN       NaN       NaN        NaN        NaN        NaN        NaN  \n",
              "\n",
              "[5 rows x 329 columns]"
            ],
            "text/html": [
              "\n",
              "  <div id=\"df-e6a4e8f6-3188-4561-a904-2301974a8be8\">\n",
              "    <div class=\"colab-df-container\">\n",
              "      <div>\n",
              "<style scoped>\n",
              "    .dataframe tbody tr th:only-of-type {\n",
              "        vertical-align: middle;\n",
              "    }\n",
              "\n",
              "    .dataframe tbody tr th {\n",
              "        vertical-align: top;\n",
              "    }\n",
              "\n",
              "    .dataframe thead th {\n",
              "        text-align: right;\n",
              "    }\n",
              "</style>\n",
              "<table border=\"1\" class=\"dataframe\">\n",
              "  <thead>\n",
              "    <tr style=\"text-align: right;\">\n",
              "      <th></th>\n",
              "      <th>id</th>\n",
              "      <th>20-6-2013</th>\n",
              "      <th>21-6-2013</th>\n",
              "      <th>22-6-2013</th>\n",
              "      <th>23-6-2013</th>\n",
              "      <th>24-6-2013</th>\n",
              "      <th>25-6-2013</th>\n",
              "      <th>26-6-2013</th>\n",
              "      <th>27-6-2013</th>\n",
              "      <th>28-6-2013</th>\n",
              "      <th>...</th>\n",
              "      <th>4-5-2014</th>\n",
              "      <th>5-5-2014</th>\n",
              "      <th>6-5-2014</th>\n",
              "      <th>7-5-2014</th>\n",
              "      <th>8-5-2014</th>\n",
              "      <th>9-5-2014</th>\n",
              "      <th>10-5-2014</th>\n",
              "      <th>11-5-2014</th>\n",
              "      <th>12-5-2014</th>\n",
              "      <th>13-5-2014</th>\n",
              "    </tr>\n",
              "  </thead>\n",
              "  <tbody>\n",
              "    <tr>\n",
              "      <th>0</th>\n",
              "      <td>1</td>\n",
              "      <td>NaN</td>\n",
              "      <td>NaN</td>\n",
              "      <td>NaN</td>\n",
              "      <td>NaN</td>\n",
              "      <td>3941.0</td>\n",
              "      <td>15733.0</td>\n",
              "      <td>9929.0</td>\n",
              "      <td>12879.0</td>\n",
              "      <td>10541.0</td>\n",
              "      <td>...</td>\n",
              "      <td>NaN</td>\n",
              "      <td>NaN</td>\n",
              "      <td>NaN</td>\n",
              "      <td>NaN</td>\n",
              "      <td>NaN</td>\n",
              "      <td>NaN</td>\n",
              "      <td>NaN</td>\n",
              "      <td>NaN</td>\n",
              "      <td>NaN</td>\n",
              "      <td>NaN</td>\n",
              "    </tr>\n",
              "    <tr>\n",
              "      <th>1</th>\n",
              "      <td>2</td>\n",
              "      <td>NaN</td>\n",
              "      <td>NaN</td>\n",
              "      <td>10473.0</td>\n",
              "      <td>705.0</td>\n",
              "      <td>4287.0</td>\n",
              "      <td>5507.0</td>\n",
              "      <td>4024.0</td>\n",
              "      <td>3926.0</td>\n",
              "      <td>14595.0</td>\n",
              "      <td>...</td>\n",
              "      <td>NaN</td>\n",
              "      <td>NaN</td>\n",
              "      <td>NaN</td>\n",
              "      <td>NaN</td>\n",
              "      <td>NaN</td>\n",
              "      <td>NaN</td>\n",
              "      <td>NaN</td>\n",
              "      <td>NaN</td>\n",
              "      <td>NaN</td>\n",
              "      <td>NaN</td>\n",
              "    </tr>\n",
              "    <tr>\n",
              "      <th>2</th>\n",
              "      <td>3</td>\n",
              "      <td>NaN</td>\n",
              "      <td>11428.0</td>\n",
              "      <td>12523.0</td>\n",
              "      <td>2553.0</td>\n",
              "      <td>190.0</td>\n",
              "      <td>2164.0</td>\n",
              "      <td>8185.0</td>\n",
              "      <td>9630.0</td>\n",
              "      <td>8983.0</td>\n",
              "      <td>...</td>\n",
              "      <td>3914.0</td>\n",
              "      <td>4364.0</td>\n",
              "      <td>NaN</td>\n",
              "      <td>NaN</td>\n",
              "      <td>NaN</td>\n",
              "      <td>6227.0</td>\n",
              "      <td>4567.0</td>\n",
              "      <td>2567.0</td>\n",
              "      <td>1129.0</td>\n",
              "      <td>NaN</td>\n",
              "    </tr>\n",
              "    <tr>\n",
              "      <th>3</th>\n",
              "      <td>4</td>\n",
              "      <td>NaN</td>\n",
              "      <td>NaN</td>\n",
              "      <td>NaN</td>\n",
              "      <td>NaN</td>\n",
              "      <td>NaN</td>\n",
              "      <td>NaN</td>\n",
              "      <td>NaN</td>\n",
              "      <td>NaN</td>\n",
              "      <td>NaN</td>\n",
              "      <td>...</td>\n",
              "      <td>NaN</td>\n",
              "      <td>NaN</td>\n",
              "      <td>NaN</td>\n",
              "      <td>NaN</td>\n",
              "      <td>NaN</td>\n",
              "      <td>NaN</td>\n",
              "      <td>NaN</td>\n",
              "      <td>NaN</td>\n",
              "      <td>NaN</td>\n",
              "      <td>NaN</td>\n",
              "    </tr>\n",
              "    <tr>\n",
              "      <th>4</th>\n",
              "      <td>5</td>\n",
              "      <td>NaN</td>\n",
              "      <td>NaN</td>\n",
              "      <td>NaN</td>\n",
              "      <td>NaN</td>\n",
              "      <td>NaN</td>\n",
              "      <td>NaN</td>\n",
              "      <td>NaN</td>\n",
              "      <td>NaN</td>\n",
              "      <td>NaN</td>\n",
              "      <td>...</td>\n",
              "      <td>NaN</td>\n",
              "      <td>NaN</td>\n",
              "      <td>NaN</td>\n",
              "      <td>NaN</td>\n",
              "      <td>NaN</td>\n",
              "      <td>NaN</td>\n",
              "      <td>NaN</td>\n",
              "      <td>NaN</td>\n",
              "      <td>NaN</td>\n",
              "      <td>NaN</td>\n",
              "    </tr>\n",
              "  </tbody>\n",
              "</table>\n",
              "<p>5 rows × 329 columns</p>\n",
              "</div>\n",
              "      <button class=\"colab-df-convert\" onclick=\"convertToInteractive('df-e6a4e8f6-3188-4561-a904-2301974a8be8')\"\n",
              "              title=\"Convert this dataframe to an interactive table.\"\n",
              "              style=\"display:none;\">\n",
              "        \n",
              "  <svg xmlns=\"http://www.w3.org/2000/svg\" height=\"24px\"viewBox=\"0 0 24 24\"\n",
              "       width=\"24px\">\n",
              "    <path d=\"M0 0h24v24H0V0z\" fill=\"none\"/>\n",
              "    <path d=\"M18.56 5.44l.94 2.06.94-2.06 2.06-.94-2.06-.94-.94-2.06-.94 2.06-2.06.94zm-11 1L8.5 8.5l.94-2.06 2.06-.94-2.06-.94L8.5 2.5l-.94 2.06-2.06.94zm10 10l.94 2.06.94-2.06 2.06-.94-2.06-.94-.94-2.06-.94 2.06-2.06.94z\"/><path d=\"M17.41 7.96l-1.37-1.37c-.4-.4-.92-.59-1.43-.59-.52 0-1.04.2-1.43.59L10.3 9.45l-7.72 7.72c-.78.78-.78 2.05 0 2.83L4 21.41c.39.39.9.59 1.41.59.51 0 1.02-.2 1.41-.59l7.78-7.78 2.81-2.81c.8-.78.8-2.07 0-2.86zM5.41 20L4 18.59l7.72-7.72 1.47 1.35L5.41 20z\"/>\n",
              "  </svg>\n",
              "      </button>\n",
              "      \n",
              "  <style>\n",
              "    .colab-df-container {\n",
              "      display:flex;\n",
              "      flex-wrap:wrap;\n",
              "      gap: 12px;\n",
              "    }\n",
              "\n",
              "    .colab-df-convert {\n",
              "      background-color: #E8F0FE;\n",
              "      border: none;\n",
              "      border-radius: 50%;\n",
              "      cursor: pointer;\n",
              "      display: none;\n",
              "      fill: #1967D2;\n",
              "      height: 32px;\n",
              "      padding: 0 0 0 0;\n",
              "      width: 32px;\n",
              "    }\n",
              "\n",
              "    .colab-df-convert:hover {\n",
              "      background-color: #E2EBFA;\n",
              "      box-shadow: 0px 1px 2px rgba(60, 64, 67, 0.3), 0px 1px 3px 1px rgba(60, 64, 67, 0.15);\n",
              "      fill: #174EA6;\n",
              "    }\n",
              "\n",
              "    [theme=dark] .colab-df-convert {\n",
              "      background-color: #3B4455;\n",
              "      fill: #D2E3FC;\n",
              "    }\n",
              "\n",
              "    [theme=dark] .colab-df-convert:hover {\n",
              "      background-color: #434B5C;\n",
              "      box-shadow: 0px 1px 3px 1px rgba(0, 0, 0, 0.15);\n",
              "      filter: drop-shadow(0px 1px 2px rgba(0, 0, 0, 0.3));\n",
              "      fill: #FFFFFF;\n",
              "    }\n",
              "  </style>\n",
              "\n",
              "      <script>\n",
              "        const buttonEl =\n",
              "          document.querySelector('#df-e6a4e8f6-3188-4561-a904-2301974a8be8 button.colab-df-convert');\n",
              "        buttonEl.style.display =\n",
              "          google.colab.kernel.accessAllowed ? 'block' : 'none';\n",
              "\n",
              "        async function convertToInteractive(key) {\n",
              "          const element = document.querySelector('#df-e6a4e8f6-3188-4561-a904-2301974a8be8');\n",
              "          const dataTable =\n",
              "            await google.colab.kernel.invokeFunction('convertToInteractive',\n",
              "                                                     [key], {});\n",
              "          if (!dataTable) return;\n",
              "\n",
              "          const docLinkHtml = 'Like what you see? Visit the ' +\n",
              "            '<a target=\"_blank\" href=https://colab.research.google.com/notebooks/data_table.ipynb>data table notebook</a>'\n",
              "            + ' to learn more about interactive tables.';\n",
              "          element.innerHTML = '';\n",
              "          dataTable['output_type'] = 'display_data';\n",
              "          await google.colab.output.renderOutput(dataTable, element);\n",
              "          const docLink = document.createElement('div');\n",
              "          docLink.innerHTML = docLinkHtml;\n",
              "          element.appendChild(docLink);\n",
              "        }\n",
              "      </script>\n",
              "    </div>\n",
              "  </div>\n",
              "  "
            ]
          },
          "metadata": {},
          "execution_count": 4
        }
      ]
    },
    {
      "cell_type": "code",
      "source": [
        "df2.head()"
      ],
      "metadata": {
        "colab": {
          "base_uri": "https://localhost:8080/",
          "height": 206
        },
        "id": "WqFlzDpvVxSw",
        "outputId": "c5880419-60c7-4324-c8c2-b6ff18e92054"
      },
      "execution_count": null,
      "outputs": [
        {
          "output_type": "execute_result",
          "data": {
            "text/plain": [
              "   id         city  gender    age  hh_size  education          education_1  \\\n",
              "0   1     Bordeaux    Male  25-34        4          4  Master or doctorate   \n",
              "1   2        Lille    Male  35-44        1          3             Bachelor   \n",
              "2   3  Montpellier    Male  25-34        2          2  Master or doctorate   \n",
              "3   4         Lyon    Male    <25        1          1             Bachelor   \n",
              "4   5  Montpellier  Female  25-34        3          4             Bachelor   \n",
              "\n",
              "   height  weight  \n",
              "0   178.0    98.0  \n",
              "1   180.0    77.0  \n",
              "2   180.0    83.0  \n",
              "3   178.0    80.0  \n",
              "4   167.0    61.0  "
            ],
            "text/html": [
              "\n",
              "  <div id=\"df-de7f6ae6-dde1-4603-93c3-a66c785e714f\">\n",
              "    <div class=\"colab-df-container\">\n",
              "      <div>\n",
              "<style scoped>\n",
              "    .dataframe tbody tr th:only-of-type {\n",
              "        vertical-align: middle;\n",
              "    }\n",
              "\n",
              "    .dataframe tbody tr th {\n",
              "        vertical-align: top;\n",
              "    }\n",
              "\n",
              "    .dataframe thead th {\n",
              "        text-align: right;\n",
              "    }\n",
              "</style>\n",
              "<table border=\"1\" class=\"dataframe\">\n",
              "  <thead>\n",
              "    <tr style=\"text-align: right;\">\n",
              "      <th></th>\n",
              "      <th>id</th>\n",
              "      <th>city</th>\n",
              "      <th>gender</th>\n",
              "      <th>age</th>\n",
              "      <th>hh_size</th>\n",
              "      <th>education</th>\n",
              "      <th>education_1</th>\n",
              "      <th>height</th>\n",
              "      <th>weight</th>\n",
              "    </tr>\n",
              "  </thead>\n",
              "  <tbody>\n",
              "    <tr>\n",
              "      <th>0</th>\n",
              "      <td>1</td>\n",
              "      <td>Bordeaux</td>\n",
              "      <td>Male</td>\n",
              "      <td>25-34</td>\n",
              "      <td>4</td>\n",
              "      <td>4</td>\n",
              "      <td>Master or doctorate</td>\n",
              "      <td>178.0</td>\n",
              "      <td>98.0</td>\n",
              "    </tr>\n",
              "    <tr>\n",
              "      <th>1</th>\n",
              "      <td>2</td>\n",
              "      <td>Lille</td>\n",
              "      <td>Male</td>\n",
              "      <td>35-44</td>\n",
              "      <td>1</td>\n",
              "      <td>3</td>\n",
              "      <td>Bachelor</td>\n",
              "      <td>180.0</td>\n",
              "      <td>77.0</td>\n",
              "    </tr>\n",
              "    <tr>\n",
              "      <th>2</th>\n",
              "      <td>3</td>\n",
              "      <td>Montpellier</td>\n",
              "      <td>Male</td>\n",
              "      <td>25-34</td>\n",
              "      <td>2</td>\n",
              "      <td>2</td>\n",
              "      <td>Master or doctorate</td>\n",
              "      <td>180.0</td>\n",
              "      <td>83.0</td>\n",
              "    </tr>\n",
              "    <tr>\n",
              "      <th>3</th>\n",
              "      <td>4</td>\n",
              "      <td>Lyon</td>\n",
              "      <td>Male</td>\n",
              "      <td>&lt;25</td>\n",
              "      <td>1</td>\n",
              "      <td>1</td>\n",
              "      <td>Bachelor</td>\n",
              "      <td>178.0</td>\n",
              "      <td>80.0</td>\n",
              "    </tr>\n",
              "    <tr>\n",
              "      <th>4</th>\n",
              "      <td>5</td>\n",
              "      <td>Montpellier</td>\n",
              "      <td>Female</td>\n",
              "      <td>25-34</td>\n",
              "      <td>3</td>\n",
              "      <td>4</td>\n",
              "      <td>Bachelor</td>\n",
              "      <td>167.0</td>\n",
              "      <td>61.0</td>\n",
              "    </tr>\n",
              "  </tbody>\n",
              "</table>\n",
              "</div>\n",
              "      <button class=\"colab-df-convert\" onclick=\"convertToInteractive('df-de7f6ae6-dde1-4603-93c3-a66c785e714f')\"\n",
              "              title=\"Convert this dataframe to an interactive table.\"\n",
              "              style=\"display:none;\">\n",
              "        \n",
              "  <svg xmlns=\"http://www.w3.org/2000/svg\" height=\"24px\"viewBox=\"0 0 24 24\"\n",
              "       width=\"24px\">\n",
              "    <path d=\"M0 0h24v24H0V0z\" fill=\"none\"/>\n",
              "    <path d=\"M18.56 5.44l.94 2.06.94-2.06 2.06-.94-2.06-.94-.94-2.06-.94 2.06-2.06.94zm-11 1L8.5 8.5l.94-2.06 2.06-.94-2.06-.94L8.5 2.5l-.94 2.06-2.06.94zm10 10l.94 2.06.94-2.06 2.06-.94-2.06-.94-.94-2.06-.94 2.06-2.06.94z\"/><path d=\"M17.41 7.96l-1.37-1.37c-.4-.4-.92-.59-1.43-.59-.52 0-1.04.2-1.43.59L10.3 9.45l-7.72 7.72c-.78.78-.78 2.05 0 2.83L4 21.41c.39.39.9.59 1.41.59.51 0 1.02-.2 1.41-.59l7.78-7.78 2.81-2.81c.8-.78.8-2.07 0-2.86zM5.41 20L4 18.59l7.72-7.72 1.47 1.35L5.41 20z\"/>\n",
              "  </svg>\n",
              "      </button>\n",
              "      \n",
              "  <style>\n",
              "    .colab-df-container {\n",
              "      display:flex;\n",
              "      flex-wrap:wrap;\n",
              "      gap: 12px;\n",
              "    }\n",
              "\n",
              "    .colab-df-convert {\n",
              "      background-color: #E8F0FE;\n",
              "      border: none;\n",
              "      border-radius: 50%;\n",
              "      cursor: pointer;\n",
              "      display: none;\n",
              "      fill: #1967D2;\n",
              "      height: 32px;\n",
              "      padding: 0 0 0 0;\n",
              "      width: 32px;\n",
              "    }\n",
              "\n",
              "    .colab-df-convert:hover {\n",
              "      background-color: #E2EBFA;\n",
              "      box-shadow: 0px 1px 2px rgba(60, 64, 67, 0.3), 0px 1px 3px 1px rgba(60, 64, 67, 0.15);\n",
              "      fill: #174EA6;\n",
              "    }\n",
              "\n",
              "    [theme=dark] .colab-df-convert {\n",
              "      background-color: #3B4455;\n",
              "      fill: #D2E3FC;\n",
              "    }\n",
              "\n",
              "    [theme=dark] .colab-df-convert:hover {\n",
              "      background-color: #434B5C;\n",
              "      box-shadow: 0px 1px 3px 1px rgba(0, 0, 0, 0.15);\n",
              "      filter: drop-shadow(0px 1px 2px rgba(0, 0, 0, 0.3));\n",
              "      fill: #FFFFFF;\n",
              "    }\n",
              "  </style>\n",
              "\n",
              "      <script>\n",
              "        const buttonEl =\n",
              "          document.querySelector('#df-de7f6ae6-dde1-4603-93c3-a66c785e714f button.colab-df-convert');\n",
              "        buttonEl.style.display =\n",
              "          google.colab.kernel.accessAllowed ? 'block' : 'none';\n",
              "\n",
              "        async function convertToInteractive(key) {\n",
              "          const element = document.querySelector('#df-de7f6ae6-dde1-4603-93c3-a66c785e714f');\n",
              "          const dataTable =\n",
              "            await google.colab.kernel.invokeFunction('convertToInteractive',\n",
              "                                                     [key], {});\n",
              "          if (!dataTable) return;\n",
              "\n",
              "          const docLinkHtml = 'Like what you see? Visit the ' +\n",
              "            '<a target=\"_blank\" href=https://colab.research.google.com/notebooks/data_table.ipynb>data table notebook</a>'\n",
              "            + ' to learn more about interactive tables.';\n",
              "          element.innerHTML = '';\n",
              "          dataTable['output_type'] = 'display_data';\n",
              "          await google.colab.output.renderOutput(dataTable, element);\n",
              "          const docLink = document.createElement('div');\n",
              "          docLink.innerHTML = docLinkHtml;\n",
              "          element.appendChild(docLink);\n",
              "        }\n",
              "      </script>\n",
              "    </div>\n",
              "  </div>\n",
              "  "
            ]
          },
          "metadata": {},
          "execution_count": 5
        }
      ]
    },
    {
      "cell_type": "code",
      "source": [
        "df = pd.merge(df1, df2, on = 'id') #'id' is the common identifier\n",
        "df.head()"
      ],
      "metadata": {
        "colab": {
          "base_uri": "https://localhost:8080/",
          "height": 404
        },
        "id": "-H8QNw2DRcrt",
        "outputId": "0ef89f56-c3da-48dd-92fc-bf8f1370a9e5"
      },
      "execution_count": null,
      "outputs": [
        {
          "output_type": "execute_result",
          "data": {
            "text/plain": [
              "   id  20-6-2013  21-6-2013  22-6-2013  23-6-2013  24-6-2013  25-6-2013  \\\n",
              "0   1        NaN        NaN        NaN        NaN     3941.0    15733.0   \n",
              "1   2        NaN        NaN    10473.0      705.0     4287.0     5507.0   \n",
              "2   3        NaN    11428.0    12523.0     2553.0      190.0     2164.0   \n",
              "3   4        NaN        NaN        NaN        NaN        NaN        NaN   \n",
              "4   5        NaN        NaN        NaN        NaN        NaN        NaN   \n",
              "\n",
              "   26-6-2013  27-6-2013  28-6-2013  ...  12-5-2014  13-5-2014         city  \\\n",
              "0     9929.0    12879.0    10541.0  ...        NaN        NaN     Bordeaux   \n",
              "1     4024.0     3926.0    14595.0  ...        NaN        NaN        Lille   \n",
              "2     8185.0     9630.0     8983.0  ...     1129.0        NaN  Montpellier   \n",
              "3        NaN        NaN        NaN  ...        NaN        NaN         Lyon   \n",
              "4        NaN        NaN        NaN  ...        NaN        NaN  Montpellier   \n",
              "\n",
              "   gender    age  hh_size  education          education_1  height  weight  \n",
              "0    Male  25-34        4          4  Master or doctorate   178.0    98.0  \n",
              "1    Male  35-44        1          3             Bachelor   180.0    77.0  \n",
              "2    Male  25-34        2          2  Master or doctorate   180.0    83.0  \n",
              "3    Male    <25        1          1             Bachelor   178.0    80.0  \n",
              "4  Female  25-34        3          4             Bachelor   167.0    61.0  \n",
              "\n",
              "[5 rows x 337 columns]"
            ],
            "text/html": [
              "\n",
              "  <div id=\"df-b0fc3ec9-3e1a-45a7-ab0e-56d1fc527903\">\n",
              "    <div class=\"colab-df-container\">\n",
              "      <div>\n",
              "<style scoped>\n",
              "    .dataframe tbody tr th:only-of-type {\n",
              "        vertical-align: middle;\n",
              "    }\n",
              "\n",
              "    .dataframe tbody tr th {\n",
              "        vertical-align: top;\n",
              "    }\n",
              "\n",
              "    .dataframe thead th {\n",
              "        text-align: right;\n",
              "    }\n",
              "</style>\n",
              "<table border=\"1\" class=\"dataframe\">\n",
              "  <thead>\n",
              "    <tr style=\"text-align: right;\">\n",
              "      <th></th>\n",
              "      <th>id</th>\n",
              "      <th>20-6-2013</th>\n",
              "      <th>21-6-2013</th>\n",
              "      <th>22-6-2013</th>\n",
              "      <th>23-6-2013</th>\n",
              "      <th>24-6-2013</th>\n",
              "      <th>25-6-2013</th>\n",
              "      <th>26-6-2013</th>\n",
              "      <th>27-6-2013</th>\n",
              "      <th>28-6-2013</th>\n",
              "      <th>...</th>\n",
              "      <th>12-5-2014</th>\n",
              "      <th>13-5-2014</th>\n",
              "      <th>city</th>\n",
              "      <th>gender</th>\n",
              "      <th>age</th>\n",
              "      <th>hh_size</th>\n",
              "      <th>education</th>\n",
              "      <th>education_1</th>\n",
              "      <th>height</th>\n",
              "      <th>weight</th>\n",
              "    </tr>\n",
              "  </thead>\n",
              "  <tbody>\n",
              "    <tr>\n",
              "      <th>0</th>\n",
              "      <td>1</td>\n",
              "      <td>NaN</td>\n",
              "      <td>NaN</td>\n",
              "      <td>NaN</td>\n",
              "      <td>NaN</td>\n",
              "      <td>3941.0</td>\n",
              "      <td>15733.0</td>\n",
              "      <td>9929.0</td>\n",
              "      <td>12879.0</td>\n",
              "      <td>10541.0</td>\n",
              "      <td>...</td>\n",
              "      <td>NaN</td>\n",
              "      <td>NaN</td>\n",
              "      <td>Bordeaux</td>\n",
              "      <td>Male</td>\n",
              "      <td>25-34</td>\n",
              "      <td>4</td>\n",
              "      <td>4</td>\n",
              "      <td>Master or doctorate</td>\n",
              "      <td>178.0</td>\n",
              "      <td>98.0</td>\n",
              "    </tr>\n",
              "    <tr>\n",
              "      <th>1</th>\n",
              "      <td>2</td>\n",
              "      <td>NaN</td>\n",
              "      <td>NaN</td>\n",
              "      <td>10473.0</td>\n",
              "      <td>705.0</td>\n",
              "      <td>4287.0</td>\n",
              "      <td>5507.0</td>\n",
              "      <td>4024.0</td>\n",
              "      <td>3926.0</td>\n",
              "      <td>14595.0</td>\n",
              "      <td>...</td>\n",
              "      <td>NaN</td>\n",
              "      <td>NaN</td>\n",
              "      <td>Lille</td>\n",
              "      <td>Male</td>\n",
              "      <td>35-44</td>\n",
              "      <td>1</td>\n",
              "      <td>3</td>\n",
              "      <td>Bachelor</td>\n",
              "      <td>180.0</td>\n",
              "      <td>77.0</td>\n",
              "    </tr>\n",
              "    <tr>\n",
              "      <th>2</th>\n",
              "      <td>3</td>\n",
              "      <td>NaN</td>\n",
              "      <td>11428.0</td>\n",
              "      <td>12523.0</td>\n",
              "      <td>2553.0</td>\n",
              "      <td>190.0</td>\n",
              "      <td>2164.0</td>\n",
              "      <td>8185.0</td>\n",
              "      <td>9630.0</td>\n",
              "      <td>8983.0</td>\n",
              "      <td>...</td>\n",
              "      <td>1129.0</td>\n",
              "      <td>NaN</td>\n",
              "      <td>Montpellier</td>\n",
              "      <td>Male</td>\n",
              "      <td>25-34</td>\n",
              "      <td>2</td>\n",
              "      <td>2</td>\n",
              "      <td>Master or doctorate</td>\n",
              "      <td>180.0</td>\n",
              "      <td>83.0</td>\n",
              "    </tr>\n",
              "    <tr>\n",
              "      <th>3</th>\n",
              "      <td>4</td>\n",
              "      <td>NaN</td>\n",
              "      <td>NaN</td>\n",
              "      <td>NaN</td>\n",
              "      <td>NaN</td>\n",
              "      <td>NaN</td>\n",
              "      <td>NaN</td>\n",
              "      <td>NaN</td>\n",
              "      <td>NaN</td>\n",
              "      <td>NaN</td>\n",
              "      <td>...</td>\n",
              "      <td>NaN</td>\n",
              "      <td>NaN</td>\n",
              "      <td>Lyon</td>\n",
              "      <td>Male</td>\n",
              "      <td>&lt;25</td>\n",
              "      <td>1</td>\n",
              "      <td>1</td>\n",
              "      <td>Bachelor</td>\n",
              "      <td>178.0</td>\n",
              "      <td>80.0</td>\n",
              "    </tr>\n",
              "    <tr>\n",
              "      <th>4</th>\n",
              "      <td>5</td>\n",
              "      <td>NaN</td>\n",
              "      <td>NaN</td>\n",
              "      <td>NaN</td>\n",
              "      <td>NaN</td>\n",
              "      <td>NaN</td>\n",
              "      <td>NaN</td>\n",
              "      <td>NaN</td>\n",
              "      <td>NaN</td>\n",
              "      <td>NaN</td>\n",
              "      <td>...</td>\n",
              "      <td>NaN</td>\n",
              "      <td>NaN</td>\n",
              "      <td>Montpellier</td>\n",
              "      <td>Female</td>\n",
              "      <td>25-34</td>\n",
              "      <td>3</td>\n",
              "      <td>4</td>\n",
              "      <td>Bachelor</td>\n",
              "      <td>167.0</td>\n",
              "      <td>61.0</td>\n",
              "    </tr>\n",
              "  </tbody>\n",
              "</table>\n",
              "<p>5 rows × 337 columns</p>\n",
              "</div>\n",
              "      <button class=\"colab-df-convert\" onclick=\"convertToInteractive('df-b0fc3ec9-3e1a-45a7-ab0e-56d1fc527903')\"\n",
              "              title=\"Convert this dataframe to an interactive table.\"\n",
              "              style=\"display:none;\">\n",
              "        \n",
              "  <svg xmlns=\"http://www.w3.org/2000/svg\" height=\"24px\"viewBox=\"0 0 24 24\"\n",
              "       width=\"24px\">\n",
              "    <path d=\"M0 0h24v24H0V0z\" fill=\"none\"/>\n",
              "    <path d=\"M18.56 5.44l.94 2.06.94-2.06 2.06-.94-2.06-.94-.94-2.06-.94 2.06-2.06.94zm-11 1L8.5 8.5l.94-2.06 2.06-.94-2.06-.94L8.5 2.5l-.94 2.06-2.06.94zm10 10l.94 2.06.94-2.06 2.06-.94-2.06-.94-.94-2.06-.94 2.06-2.06.94z\"/><path d=\"M17.41 7.96l-1.37-1.37c-.4-.4-.92-.59-1.43-.59-.52 0-1.04.2-1.43.59L10.3 9.45l-7.72 7.72c-.78.78-.78 2.05 0 2.83L4 21.41c.39.39.9.59 1.41.59.51 0 1.02-.2 1.41-.59l7.78-7.78 2.81-2.81c.8-.78.8-2.07 0-2.86zM5.41 20L4 18.59l7.72-7.72 1.47 1.35L5.41 20z\"/>\n",
              "  </svg>\n",
              "      </button>\n",
              "      \n",
              "  <style>\n",
              "    .colab-df-container {\n",
              "      display:flex;\n",
              "      flex-wrap:wrap;\n",
              "      gap: 12px;\n",
              "    }\n",
              "\n",
              "    .colab-df-convert {\n",
              "      background-color: #E8F0FE;\n",
              "      border: none;\n",
              "      border-radius: 50%;\n",
              "      cursor: pointer;\n",
              "      display: none;\n",
              "      fill: #1967D2;\n",
              "      height: 32px;\n",
              "      padding: 0 0 0 0;\n",
              "      width: 32px;\n",
              "    }\n",
              "\n",
              "    .colab-df-convert:hover {\n",
              "      background-color: #E2EBFA;\n",
              "      box-shadow: 0px 1px 2px rgba(60, 64, 67, 0.3), 0px 1px 3px 1px rgba(60, 64, 67, 0.15);\n",
              "      fill: #174EA6;\n",
              "    }\n",
              "\n",
              "    [theme=dark] .colab-df-convert {\n",
              "      background-color: #3B4455;\n",
              "      fill: #D2E3FC;\n",
              "    }\n",
              "\n",
              "    [theme=dark] .colab-df-convert:hover {\n",
              "      background-color: #434B5C;\n",
              "      box-shadow: 0px 1px 3px 1px rgba(0, 0, 0, 0.15);\n",
              "      filter: drop-shadow(0px 1px 2px rgba(0, 0, 0, 0.3));\n",
              "      fill: #FFFFFF;\n",
              "    }\n",
              "  </style>\n",
              "\n",
              "      <script>\n",
              "        const buttonEl =\n",
              "          document.querySelector('#df-b0fc3ec9-3e1a-45a7-ab0e-56d1fc527903 button.colab-df-convert');\n",
              "        buttonEl.style.display =\n",
              "          google.colab.kernel.accessAllowed ? 'block' : 'none';\n",
              "\n",
              "        async function convertToInteractive(key) {\n",
              "          const element = document.querySelector('#df-b0fc3ec9-3e1a-45a7-ab0e-56d1fc527903');\n",
              "          const dataTable =\n",
              "            await google.colab.kernel.invokeFunction('convertToInteractive',\n",
              "                                                     [key], {});\n",
              "          if (!dataTable) return;\n",
              "\n",
              "          const docLinkHtml = 'Like what you see? Visit the ' +\n",
              "            '<a target=\"_blank\" href=https://colab.research.google.com/notebooks/data_table.ipynb>data table notebook</a>'\n",
              "            + ' to learn more about interactive tables.';\n",
              "          element.innerHTML = '';\n",
              "          dataTable['output_type'] = 'display_data';\n",
              "          await google.colab.output.renderOutput(dataTable, element);\n",
              "          const docLink = document.createElement('div');\n",
              "          docLink.innerHTML = docLinkHtml;\n",
              "          element.appendChild(docLink);\n",
              "        }\n",
              "      </script>\n",
              "    </div>\n",
              "  </div>\n",
              "  "
            ]
          },
          "metadata": {},
          "execution_count": 6
        }
      ]
    },
    {
      "cell_type": "code",
      "source": [
        "df.info()"
      ],
      "metadata": {
        "colab": {
          "base_uri": "https://localhost:8080/"
        },
        "id": "l4C7IG2-Xw2y",
        "outputId": "29431712-3b35-413b-8f09-738801682348"
      },
      "execution_count": null,
      "outputs": [
        {
          "output_type": "stream",
          "name": "stdout",
          "text": [
            "<class 'pandas.core.frame.DataFrame'>\n",
            "Int64Index: 929 entries, 0 to 928\n",
            "Columns: 337 entries, id to weight\n",
            "dtypes: float64(330), int64(3), object(4)\n",
            "memory usage: 2.4+ MB\n"
          ]
        }
      ]
    },
    {
      "cell_type": "code",
      "source": [
        "# Clean the data: remove impossible values\n",
        "\n",
        "sns.displot(df['weight'].dropna(), kde=False)\n",
        "plt.title('weight distribution')\n",
        "plt.xlabel('weight')\n",
        "plt.ylabel('how many people')\n",
        "plt.show()"
      ],
      "metadata": {
        "colab": {
          "base_uri": "https://localhost:8080/",
          "height": 385
        },
        "id": "T-XPZxitWb6n",
        "outputId": "bb85e1ee-926f-4089-d1ad-2eb8b045f9e7"
      },
      "execution_count": null,
      "outputs": [
        {
          "output_type": "display_data",
          "data": {
            "text/plain": [
              "<Figure size 360x360 with 1 Axes>"
            ],
            "image/png": "[encoded data removed]"
          },
          "metadata": {
            "needs_background": "light"
          }
        }
      ]
    },
    {
      "cell_type": "code",
      "source": [
        "sns.displot(df['height'].dropna(), kde=False)\n",
        "plt.title('height distribution')\n",
        "plt.xlabel('height')\n",
        "plt.ylabel('how many people')\n",
        "plt.show()"
      ],
      "metadata": {
        "colab": {
          "base_uri": "https://localhost:8080/",
          "height": 385
        },
        "id": "3iGrvyghYgtG",
        "outputId": "eef1cc61-d5af-40fe-f817-ae848bf9cee4"
      },
      "execution_count": null,
      "outputs": [
        {
          "output_type": "display_data",
          "data": {
            "text/plain": [
              "<Figure size 360x360 with 1 Axes>"
            ],
            "image/png": "[encoded data removed]"
          },
          "metadata": {
            "needs_background": "light"
          }
        }
      ]
    },
    {
      "cell_type": "code",
      "source": [
        "df = df.drop(df[(df[\"weight\"] < 20) | (df[\"weight\"] > 155)].index)"
      ],
      "metadata": {
        "id": "kTgaR4R0WwyM"
      },
      "execution_count": null,
      "outputs": []
    },
    {
      "cell_type": "code",
      "source": [
        "df.head(3)"
      ],
      "metadata": {
        "colab": {
          "base_uri": "https://localhost:8080/",
          "height": 324
        },
        "id": "9V5BpRQgZEWV",
        "outputId": "b47516f6-3763-4294-e523-fa9ae2e23a95"
      },
      "execution_count": null,
      "outputs": [
        {
          "output_type": "execute_result",
          "data": {
            "text/plain": [
              "   id  20-6-2013  21-6-2013  22-6-2013  23-6-2013  24-6-2013  25-6-2013  \\\n",
              "0   1        NaN        NaN        NaN        NaN     3941.0    15733.0   \n",
              "1   2        NaN        NaN    10473.0      705.0     4287.0     5507.0   \n",
              "2   3        NaN    11428.0    12523.0     2553.0      190.0     2164.0   \n",
              "\n",
              "   26-6-2013  27-6-2013  28-6-2013  ...  12-5-2014  13-5-2014         city  \\\n",
              "0     9929.0    12879.0    10541.0  ...        NaN        NaN     Bordeaux   \n",
              "1     4024.0     3926.0    14595.0  ...        NaN        NaN        Lille   \n",
              "2     8185.0     9630.0     8983.0  ...     1129.0        NaN  Montpellier   \n",
              "\n",
              "   gender    age  hh_size  education          education_1  height  weight  \n",
              "0    Male  25-34        4          4  Master or doctorate   178.0    98.0  \n",
              "1    Male  35-44        1          3             Bachelor   180.0    77.0  \n",
              "2    Male  25-34        2          2  Master or doctorate   180.0    83.0  \n",
              "\n",
              "[3 rows x 337 columns]"
            ],
            "text/html": [
              "\n",
              "  <div id=\"df-56ccd853-de25-4788-b7ff-9d00a8a410b5\">\n",
              "    <div class=\"colab-df-container\">\n",
              "      <div>\n",
              "<style scoped>\n",
              "    .dataframe tbody tr th:only-of-type {\n",
              "        vertical-align: middle;\n",
              "    }\n",
              "\n",
              "    .dataframe tbody tr th {\n",
              "        vertical-align: top;\n",
              "    }\n",
              "\n",
              "    .dataframe thead th {\n",
              "        text-align: right;\n",
              "    }\n",
              "</style>\n",
              "<table border=\"1\" class=\"dataframe\">\n",
              "  <thead>\n",
              "    <tr style=\"text-align: right;\">\n",
              "      <th></th>\n",
              "      <th>id</th>\n",
              "      <th>20-6-2013</th>\n",
              "      <th>21-6-2013</th>\n",
              "      <th>22-6-2013</th>\n",
              "      <th>23-6-2013</th>\n",
              "      <th>24-6-2013</th>\n",
              "      <th>25-6-2013</th>\n",
              "      <th>26-6-2013</th>\n",
              "      <th>27-6-2013</th>\n",
              "      <th>28-6-2013</th>\n",
              "      <th>...</th>\n",
              "      <th>12-5-2014</th>\n",
              "      <th>13-5-2014</th>\n",
              "      <th>city</th>\n",
              "      <th>gender</th>\n",
              "      <th>age</th>\n",
              "      <th>hh_size</th>\n",
              "      <th>education</th>\n",
              "      <th>education_1</th>\n",
              "      <th>height</th>\n",
              "      <th>weight</th>\n",
              "    </tr>\n",
              "  </thead>\n",
              "  <tbody>\n",
              "    <tr>\n",
              "      <th>0</th>\n",
              "      <td>1</td>\n",
              "      <td>NaN</td>\n",
              "      <td>NaN</td>\n",
              "      <td>NaN</td>\n",
              "      <td>NaN</td>\n",
              "      <td>3941.0</td>\n",
              "      <td>15733.0</td>\n",
              "      <td>9929.0</td>\n",
              "      <td>12879.0</td>\n",
              "      <td>10541.0</td>\n",
              "      <td>...</td>\n",
              "      <td>NaN</td>\n",
              "      <td>NaN</td>\n",
              "      <td>Bordeaux</td>\n",
              "      <td>Male</td>\n",
              "      <td>25-34</td>\n",
              "      <td>4</td>\n",
              "      <td>4</td>\n",
              "      <td>Master or doctorate</td>\n",
              "      <td>178.0</td>\n",
              "      <td>98.0</td>\n",
              "    </tr>\n",
              "    <tr>\n",
              "      <th>1</th>\n",
              "      <td>2</td>\n",
              "      <td>NaN</td>\n",
              "      <td>NaN</td>\n",
              "      <td>10473.0</td>\n",
              "      <td>705.0</td>\n",
              "      <td>4287.0</td>\n",
              "      <td>5507.0</td>\n",
              "      <td>4024.0</td>\n",
              "      <td>3926.0</td>\n",
              "      <td>14595.0</td>\n",
              "      <td>...</td>\n",
              "      <td>NaN</td>\n",
              "      <td>NaN</td>\n",
              "      <td>Lille</td>\n",
              "      <td>Male</td>\n",
              "      <td>35-44</td>\n",
              "      <td>1</td>\n",
              "      <td>3</td>\n",
              "      <td>Bachelor</td>\n",
              "      <td>180.0</td>\n",
              "      <td>77.0</td>\n",
              "    </tr>\n",
              "    <tr>\n",
              "      <th>2</th>\n",
              "      <td>3</td>\n",
              "      <td>NaN</td>\n",
              "      <td>11428.0</td>\n",
              "      <td>12523.0</td>\n",
              "      <td>2553.0</td>\n",
              "      <td>190.0</td>\n",
              "      <td>2164.0</td>\n",
              "      <td>8185.0</td>\n",
              "      <td>9630.0</td>\n",
              "      <td>8983.0</td>\n",
              "      <td>...</td>\n",
              "      <td>1129.0</td>\n",
              "      <td>NaN</td>\n",
              "      <td>Montpellier</td>\n",
              "      <td>Male</td>\n",
              "      <td>25-34</td>\n",
              "      <td>2</td>\n",
              "      <td>2</td>\n",
              "      <td>Master or doctorate</td>\n",
              "      <td>180.0</td>\n",
              "      <td>83.0</td>\n",
              "    </tr>\n",
              "  </tbody>\n",
              "</table>\n",
              "<p>3 rows × 337 columns</p>\n",
              "</div>\n",
              "      <button class=\"colab-df-convert\" onclick=\"convertToInteractive('df-56ccd853-de25-4788-b7ff-9d00a8a410b5')\"\n",
              "              title=\"Convert this dataframe to an interactive table.\"\n",
              "              style=\"display:none;\">\n",
              "        \n",
              "  <svg xmlns=\"http://www.w3.org/2000/svg\" height=\"24px\"viewBox=\"0 0 24 24\"\n",
              "       width=\"24px\">\n",
              "    <path d=\"M0 0h24v24H0V0z\" fill=\"none\"/>\n",
              "    <path d=\"M18.56 5.44l.94 2.06.94-2.06 2.06-.94-2.06-.94-.94-2.06-.94 2.06-2.06.94zm-11 1L8.5 8.5l.94-2.06 2.06-.94-2.06-.94L8.5 2.5l-.94 2.06-2.06.94zm10 10l.94 2.06.94-2.06 2.06-.94-2.06-.94-.94-2.06-.94 2.06-2.06.94z\"/><path d=\"M17.41 7.96l-1.37-1.37c-.4-.4-.92-.59-1.43-.59-.52 0-1.04.2-1.43.59L10.3 9.45l-7.72 7.72c-.78.78-.78 2.05 0 2.83L4 21.41c.39.39.9.59 1.41.59.51 0 1.02-.2 1.41-.59l7.78-7.78 2.81-2.81c.8-.78.8-2.07 0-2.86zM5.41 20L4 18.59l7.72-7.72 1.47 1.35L5.41 20z\"/>\n",
              "  </svg>\n",
              "      </button>\n",
              "      \n",
              "  <style>\n",
              "    .colab-df-container {\n",
              "      display:flex;\n",
              "      flex-wrap:wrap;\n",
              "      gap: 12px;\n",
              "    }\n",
              "\n",
              "    .colab-df-convert {\n",
              "      background-color: #E8F0FE;\n",
              "      border: none;\n",
              "      border-radius: 50%;\n",
              "      cursor: pointer;\n",
              "      display: none;\n",
              "      fill: #1967D2;\n",
              "      height: 32px;\n",
              "      padding: 0 0 0 0;\n",
              "      width: 32px;\n",
              "    }\n",
              "\n",
              "    .colab-df-convert:hover {\n",
              "      background-color: #E2EBFA;\n",
              "      box-shadow: 0px 1px 2px rgba(60, 64, 67, 0.3), 0px 1px 3px 1px rgba(60, 64, 67, 0.15);\n",
              "      fill: #174EA6;\n",
              "    }\n",
              "\n",
              "    [theme=dark] .colab-df-convert {\n",
              "      background-color: #3B4455;\n",
              "      fill: #D2E3FC;\n",
              "    }\n",
              "\n",
              "    [theme=dark] .colab-df-convert:hover {\n",
              "      background-color: #434B5C;\n",
              "      box-shadow: 0px 1px 3px 1px rgba(0, 0, 0, 0.15);\n",
              "      filter: drop-shadow(0px 1px 2px rgba(0, 0, 0, 0.3));\n",
              "      fill: #FFFFFF;\n",
              "    }\n",
              "  </style>\n",
              "\n",
              "      <script>\n",
              "        const buttonEl =\n",
              "          document.querySelector('#df-56ccd853-de25-4788-b7ff-9d00a8a410b5 button.colab-df-convert');\n",
              "        buttonEl.style.display =\n",
              "          google.colab.kernel.accessAllowed ? 'block' : 'none';\n",
              "\n",
              "        async function convertToInteractive(key) {\n",
              "          const element = document.querySelector('#df-56ccd853-de25-4788-b7ff-9d00a8a410b5');\n",
              "          const dataTable =\n",
              "            await google.colab.kernel.invokeFunction('convertToInteractive',\n",
              "                                                     [key], {});\n",
              "          if (!dataTable) return;\n",
              "\n",
              "          const docLinkHtml = 'Like what you see? Visit the ' +\n",
              "            '<a target=\"_blank\" href=https://colab.research.google.com/notebooks/data_table.ipynb>data table notebook</a>'\n",
              "            + ' to learn more about interactive tables.';\n",
              "          element.innerHTML = '';\n",
              "          dataTable['output_type'] = 'display_data';\n",
              "          await google.colab.output.renderOutput(dataTable, element);\n",
              "          const docLink = document.createElement('div');\n",
              "          docLink.innerHTML = docLinkHtml;\n",
              "          element.appendChild(docLink);\n",
              "        }\n",
              "      </script>\n",
              "    </div>\n",
              "  </div>\n",
              "  "
            ]
          },
          "metadata": {},
          "execution_count": 11
        }
      ]
    },
    {
      "cell_type": "code",
      "source": [
        "# Create the variable mean steps per participant.\n",
        "# Hint: combine Pandas .loc and .mean() with the right axis argument (axis=....) for mean(). Look up the documentation of .loc and Pandas .mean() if you're unsure.\n",
        "df[\"mean_steps\"] = df.iloc[:, 10:].mean(axis=1)"
      ],
      "metadata": {
        "colab": {
          "base_uri": "https://localhost:8080/"
        },
        "id": "NnXt8TChRk1d",
        "outputId": "95b4cd01-be3d-4441-ab48-19d93e1d05af"
      },
      "execution_count": null,
      "outputs": [
        {
          "output_type": "stream",
          "name": "stderr",
          "text": [
            "<ipython-input-12-f27b5024b85d>:3: FutureWarning: Dropping of nuisance columns in DataFrame reductions (with 'numeric_only=None') is deprecated; in a future version this will raise TypeError.  Select only valid columns before calling the reduction.\n",
            "  df[\"mean_steps\"] = df.iloc[:, 10:].mean(axis=1)\n"
          ]
        }
      ]
    },
    {
      "cell_type": "code",
      "source": [
        "# Show the head() of the resulting data frame\n",
        "df.head()"
      ],
      "metadata": {
        "colab": {
          "base_uri": "https://localhost:8080/",
          "height": 404
        },
        "id": "MbvYCuCHRpi5",
        "outputId": "1e74b489-bded-4bf2-9f09-9ed5bf28747b"
      },
      "execution_count": null,
      "outputs": [
        {
          "output_type": "execute_result",
          "data": {
            "text/plain": [
              "   id  20-6-2013  21-6-2013  22-6-2013  23-6-2013  24-6-2013  25-6-2013  \\\n",
              "0   1        NaN        NaN        NaN        NaN     3941.0    15733.0   \n",
              "1   2        NaN        NaN    10473.0      705.0     4287.0     5507.0   \n",
              "2   3        NaN    11428.0    12523.0     2553.0      190.0     2164.0   \n",
              "3   4        NaN        NaN        NaN        NaN        NaN        NaN   \n",
              "4   5        NaN        NaN        NaN        NaN        NaN        NaN   \n",
              "\n",
              "   26-6-2013  27-6-2013  28-6-2013  ...  13-5-2014         city  gender  \\\n",
              "0     9929.0    12879.0    10541.0  ...        NaN     Bordeaux    Male   \n",
              "1     4024.0     3926.0    14595.0  ...        NaN        Lille    Male   \n",
              "2     8185.0     9630.0     8983.0  ...        NaN  Montpellier    Male   \n",
              "3        NaN        NaN        NaN  ...        NaN         Lyon    Male   \n",
              "4        NaN        NaN        NaN  ...        NaN  Montpellier  Female   \n",
              "\n",
              "     age  hh_size  education          education_1  height  weight   mean_steps  \n",
              "0  25-34        4          4  Master or doctorate   178.0    98.0  9946.170732  \n",
              "1  35-44        1          3             Bachelor   180.0    77.0  5523.712500  \n",
              "2  25-34        2          2  Master or doctorate   180.0    83.0  8147.687500  \n",
              "3    <25        1          1             Bachelor   178.0    80.0  3038.500000  \n",
              "4  25-34        3          4             Bachelor   167.0    61.0  4949.827586  \n",
              "\n",
              "[5 rows x 338 columns]"
            ],
            "text/html": [
              "\n",
              "  <div id=\"df-1d56739a-036f-42fe-a378-41ef32c300c9\">\n",
              "    <div class=\"colab-df-container\">\n",
              "      <div>\n",
              "<style scoped>\n",
              "    .dataframe tbody tr th:only-of-type {\n",
              "        vertical-align: middle;\n",
              "    }\n",
              "\n",
              "    .dataframe tbody tr th {\n",
              "        vertical-align: top;\n",
              "    }\n",
              "\n",
              "    .dataframe thead th {\n",
              "        text-align: right;\n",
              "    }\n",
              "</style>\n",
              "<table border=\"1\" class=\"dataframe\">\n",
              "  <thead>\n",
              "    <tr style=\"text-align: right;\">\n",
              "      <th></th>\n",
              "      <th>id</th>\n",
              "      <th>20-6-2013</th>\n",
              "      <th>21-6-2013</th>\n",
              "      <th>22-6-2013</th>\n",
              "      <th>23-6-2013</th>\n",
              "      <th>24-6-2013</th>\n",
              "      <th>25-6-2013</th>\n",
              "      <th>26-6-2013</th>\n",
              "      <th>27-6-2013</th>\n",
              "      <th>28-6-2013</th>\n",
              "      <th>...</th>\n",
              "      <th>13-5-2014</th>\n",
              "      <th>city</th>\n",
              "      <th>gender</th>\n",
              "      <th>age</th>\n",
              "      <th>hh_size</th>\n",
              "      <th>education</th>\n",
              "      <th>education_1</th>\n",
              "      <th>height</th>\n",
              "      <th>weight</th>\n",
              "      <th>mean_steps</th>\n",
              "    </tr>\n",
              "  </thead>\n",
              "  <tbody>\n",
              "    <tr>\n",
              "      <th>0</th>\n",
              "      <td>1</td>\n",
              "      <td>NaN</td>\n",
              "      <td>NaN</td>\n",
              "      <td>NaN</td>\n",
              "      <td>NaN</td>\n",
              "      <td>3941.0</td>\n",
              "      <td>15733.0</td>\n",
              "      <td>9929.0</td>\n",
              "      <td>12879.0</td>\n",
              "      <td>10541.0</td>\n",
              "      <td>...</td>\n",
              "      <td>NaN</td>\n",
              "      <td>Bordeaux</td>\n",
              "      <td>Male</td>\n",
              "      <td>25-34</td>\n",
              "      <td>4</td>\n",
              "      <td>4</td>\n",
              "      <td>Master or doctorate</td>\n",
              "      <td>178.0</td>\n",
              "      <td>98.0</td>\n",
              "      <td>9946.170732</td>\n",
              "    </tr>\n",
              "    <tr>\n",
              "      <th>1</th>\n",
              "      <td>2</td>\n",
              "      <td>NaN</td>\n",
              "      <td>NaN</td>\n",
              "      <td>10473.0</td>\n",
              "      <td>705.0</td>\n",
              "      <td>4287.0</td>\n",
              "      <td>5507.0</td>\n",
              "      <td>4024.0</td>\n",
              "      <td>3926.0</td>\n",
              "      <td>14595.0</td>\n",
              "      <td>...</td>\n",
              "      <td>NaN</td>\n",
              "      <td>Lille</td>\n",
              "      <td>Male</td>\n",
              "      <td>35-44</td>\n",
              "      <td>1</td>\n",
              "      <td>3</td>\n",
              "      <td>Bachelor</td>\n",
              "      <td>180.0</td>\n",
              "      <td>77.0</td>\n",
              "      <td>5523.712500</td>\n",
              "    </tr>\n",
              "    <tr>\n",
              "      <th>2</th>\n",
              "      <td>3</td>\n",
              "      <td>NaN</td>\n",
              "      <td>11428.0</td>\n",
              "      <td>12523.0</td>\n",
              "      <td>2553.0</td>\n",
              "      <td>190.0</td>\n",
              "      <td>2164.0</td>\n",
              "      <td>8185.0</td>\n",
              "      <td>9630.0</td>\n",
              "      <td>8983.0</td>\n",
              "      <td>...</td>\n",
              "      <td>NaN</td>\n",
              "      <td>Montpellier</td>\n",
              "      <td>Male</td>\n",
              "      <td>25-34</td>\n",
              "      <td>2</td>\n",
              "      <td>2</td>\n",
              "      <td>Master or doctorate</td>\n",
              "      <td>180.0</td>\n",
              "      <td>83.0</td>\n",
              "      <td>8147.687500</td>\n",
              "    </tr>\n",
              "    <tr>\n",
              "      <th>3</th>\n",
              "      <td>4</td>\n",
              "      <td>NaN</td>\n",
              "      <td>NaN</td>\n",
              "      <td>NaN</td>\n",
              "      <td>NaN</td>\n",
              "      <td>NaN</td>\n",
              "      <td>NaN</td>\n",
              "      <td>NaN</td>\n",
              "      <td>NaN</td>\n",
              "      <td>NaN</td>\n",
              "      <td>...</td>\n",
              "      <td>NaN</td>\n",
              "      <td>Lyon</td>\n",
              "      <td>Male</td>\n",
              "      <td>&lt;25</td>\n",
              "      <td>1</td>\n",
              "      <td>1</td>\n",
              "      <td>Bachelor</td>\n",
              "      <td>178.0</td>\n",
              "      <td>80.0</td>\n",
              "      <td>3038.500000</td>\n",
              "    </tr>\n",
              "    <tr>\n",
              "      <th>4</th>\n",
              "      <td>5</td>\n",
              "      <td>NaN</td>\n",
              "      <td>NaN</td>\n",
              "      <td>NaN</td>\n",
              "      <td>NaN</td>\n",
              "      <td>NaN</td>\n",
              "      <td>NaN</td>\n",
              "      <td>NaN</td>\n",
              "      <td>NaN</td>\n",
              "      <td>NaN</td>\n",
              "      <td>...</td>\n",
              "      <td>NaN</td>\n",
              "      <td>Montpellier</td>\n",
              "      <td>Female</td>\n",
              "      <td>25-34</td>\n",
              "      <td>3</td>\n",
              "      <td>4</td>\n",
              "      <td>Bachelor</td>\n",
              "      <td>167.0</td>\n",
              "      <td>61.0</td>\n",
              "      <td>4949.827586</td>\n",
              "    </tr>\n",
              "  </tbody>\n",
              "</table>\n",
              "<p>5 rows × 338 columns</p>\n",
              "</div>\n",
              "      <button class=\"colab-df-convert\" onclick=\"convertToInteractive('df-1d56739a-036f-42fe-a378-41ef32c300c9')\"\n",
              "              title=\"Convert this dataframe to an interactive table.\"\n",
              "              style=\"display:none;\">\n",
              "        \n",
              "  <svg xmlns=\"http://www.w3.org/2000/svg\" height=\"24px\"viewBox=\"0 0 24 24\"\n",
              "       width=\"24px\">\n",
              "    <path d=\"M0 0h24v24H0V0z\" fill=\"none\"/>\n",
              "    <path d=\"M18.56 5.44l.94 2.06.94-2.06 2.06-.94-2.06-.94-.94-2.06-.94 2.06-2.06.94zm-11 1L8.5 8.5l.94-2.06 2.06-.94-2.06-.94L8.5 2.5l-.94 2.06-2.06.94zm10 10l.94 2.06.94-2.06 2.06-.94-2.06-.94-.94-2.06-.94 2.06-2.06.94z\"/><path d=\"M17.41 7.96l-1.37-1.37c-.4-.4-.92-.59-1.43-.59-.52 0-1.04.2-1.43.59L10.3 9.45l-7.72 7.72c-.78.78-.78 2.05 0 2.83L4 21.41c.39.39.9.59 1.41.59.51 0 1.02-.2 1.41-.59l7.78-7.78 2.81-2.81c.8-.78.8-2.07 0-2.86zM5.41 20L4 18.59l7.72-7.72 1.47 1.35L5.41 20z\"/>\n",
              "  </svg>\n",
              "      </button>\n",
              "      \n",
              "  <style>\n",
              "    .colab-df-container {\n",
              "      display:flex;\n",
              "      flex-wrap:wrap;\n",
              "      gap: 12px;\n",
              "    }\n",
              "\n",
              "    .colab-df-convert {\n",
              "      background-color: #E8F0FE;\n",
              "      border: none;\n",
              "      border-radius: 50%;\n",
              "      cursor: pointer;\n",
              "      display: none;\n",
              "      fill: #1967D2;\n",
              "      height: 32px;\n",
              "      padding: 0 0 0 0;\n",
              "      width: 32px;\n",
              "    }\n",
              "\n",
              "    .colab-df-convert:hover {\n",
              "      background-color: #E2EBFA;\n",
              "      box-shadow: 0px 1px 2px rgba(60, 64, 67, 0.3), 0px 1px 3px 1px rgba(60, 64, 67, 0.15);\n",
              "      fill: #174EA6;\n",
              "    }\n",
              "\n",
              "    [theme=dark] .colab-df-convert {\n",
              "      background-color: #3B4455;\n",
              "      fill: #D2E3FC;\n",
              "    }\n",
              "\n",
              "    [theme=dark] .colab-df-convert:hover {\n",
              "      background-color: #434B5C;\n",
              "      box-shadow: 0px 1px 3px 1px rgba(0, 0, 0, 0.15);\n",
              "      filter: drop-shadow(0px 1px 2px rgba(0, 0, 0, 0.3));\n",
              "      fill: #FFFFFF;\n",
              "    }\n",
              "  </style>\n",
              "\n",
              "      <script>\n",
              "        const buttonEl =\n",
              "          document.querySelector('#df-1d56739a-036f-42fe-a378-41ef32c300c9 button.colab-df-convert');\n",
              "        buttonEl.style.display =\n",
              "          google.colab.kernel.accessAllowed ? 'block' : 'none';\n",
              "\n",
              "        async function convertToInteractive(key) {\n",
              "          const element = document.querySelector('#df-1d56739a-036f-42fe-a378-41ef32c300c9');\n",
              "          const dataTable =\n",
              "            await google.colab.kernel.invokeFunction('convertToInteractive',\n",
              "                                                     [key], {});\n",
              "          if (!dataTable) return;\n",
              "\n",
              "          const docLinkHtml = 'Like what you see? Visit the ' +\n",
              "            '<a target=\"_blank\" href=https://colab.research.google.com/notebooks/data_table.ipynb>data table notebook</a>'\n",
              "            + ' to learn more about interactive tables.';\n",
              "          element.innerHTML = '';\n",
              "          dataTable['output_type'] = 'display_data';\n",
              "          await google.colab.output.renderOutput(dataTable, element);\n",
              "          const docLink = document.createElement('div');\n",
              "          docLink.innerHTML = docLinkHtml;\n",
              "          element.appendChild(docLink);\n",
              "        }\n",
              "      </script>\n",
              "    </div>\n",
              "  </div>\n",
              "  "
            ]
          },
          "metadata": {},
          "execution_count": 13
        }
      ]
    },
    {
      "cell_type": "markdown",
      "source": [
        "###Feature engineering\n",
        "- The prediction of the model can be improved by computing a variable that gives a better indication of a healthy weight than weight alone."
      ],
      "metadata": {
        "id": "AcvFOgJLSpof"
      }
    },
    {
      "cell_type": "markdown",
      "source": [
        "### Exploratory data analysis"
      ],
      "metadata": {
        "id": "4gj4ZkDaR6RD"
      }
    },
    {
      "cell_type": "code",
      "source": [
        "# An analysis of mean steps per participant:\n",
        "# Summary statistics (measure of central tendency and variation, e.g., mean, median, standard deviation)\n",
        "# Verbal description of the distribution, including commenting on normality, skewness, outliers, etc.\n",
        "# The relation of mean steps per participant with two categorical variables (e.g. gender, age, education)\n",
        "# Graph of the relation (e.g. histograms, box plots, density plots, violin plots). Try a different plot this time.\n",
        "# Describe and interpret the results"
      ],
      "metadata": {
        "id": "eDw3eemhR87i"
      },
      "execution_count": null,
      "outputs": []
    },
    {
      "cell_type": "code",
      "source": [
        "# Graph of the distribution (e.g., histogram, box plot, density plot, violin plot)\n",
        "sns.boxplot(df['mean_steps'].dropna())\n",
        "plt.title('mean steps')\n",
        "plt.xlabel('mean steps')\n",
        "plt.ylabel('how many people')\n",
        "plt.show()"
      ],
      "metadata": {
        "colab": {
          "base_uri": "https://localhost:8080/",
          "height": 351
        },
        "id": "SD5Ih63-XRAE",
        "outputId": "53bc61f9-9d3a-4614-8872-03e1a4d4133a"
      },
      "execution_count": null,
      "outputs": [
        {
          "output_type": "stream",
          "name": "stderr",
          "text": [
            "/usr/local/lib/python3.8/dist-packages/seaborn/_decorators.py:36: FutureWarning: Pass the following variable as a keyword arg: x. From version 0.12, the only valid positional argument will be `data`, and passing other arguments without an explicit keyword will result in an error or misinterpretation.\n",
            "  warnings.warn(\n"
          ]
        },
        {
          "output_type": "display_data",
          "data": {
            "text/plain": [
              "<Figure size 432x288 with 1 Axes>"
            ],
            "image/png": "[encoded data removed]"
          },
          "metadata": {
            "needs_background": "light"
          }
        }
      ]
    },
    {
      "cell_type": "code",
      "source": [
        "sns.displot(df['mean_steps'].dropna(), kde=True)\n",
        "plt.title('mean steps distribution')\n",
        "plt.xlabel('mean Steps')\n",
        "plt.ylabel('how many people')\n",
        "plt.show()"
      ],
      "metadata": {
        "colab": {
          "base_uri": "https://localhost:8080/",
          "height": 385
        },
        "id": "76SmYr5RShrl",
        "outputId": "8fcfd7b0-800c-4180-b43a-09a507b5ecb2"
      },
      "execution_count": null,
      "outputs": [
        {
          "output_type": "display_data",
          "data": {
            "text/plain": [
              "<Figure size 360x360 with 1 Axes>"
            ],
            "image/png": "[encoded data removed]"
          },
          "metadata": {
            "needs_background": "light"
          }
        }
      ]
    },
    {
      "cell_type": "code",
      "source": [
        "df[\"mean_steps\"].describe()"
      ],
      "metadata": {
        "colab": {
          "base_uri": "https://localhost:8080/"
        },
        "id": "l5_vAp0vXx7m",
        "outputId": "fa039cea-3d59-4528-c955-9deefce78d48"
      },
      "execution_count": null,
      "outputs": [
        {
          "output_type": "execute_result",
          "data": {
            "text/plain": [
              "count       927.000000\n",
              "mean       6345.115493\n",
              "std        5502.184951\n",
              "min          48.800000\n",
              "25%        3844.390587\n",
              "50%        5798.137931\n",
              "75%        7930.830205\n",
              "max      125350.375000\n",
              "Name: mean_steps, dtype: float64"
            ]
          },
          "metadata": {},
          "execution_count": 17
        }
      ]
    },
    {
      "cell_type": "code",
      "source": [
        "# Make a scatterplot matrix of the numerical variables\n",
        "sns.scatterplot(x='education', y='mean_steps', data=df)\n",
        "plt.xlabel('education')\n",
        "plt.ylabel('meansteps')\n",
        "plt.title('correlation between meansteps and eduction')\n",
        "plt.show()\n"
      ],
      "metadata": {
        "colab": {
          "base_uri": "https://localhost:8080/",
          "height": 295
        },
        "id": "E_dsXI6aX46b",
        "outputId": "8a62ec8a-e180-4e25-8fb0-181254abd108"
      },
      "execution_count": null,
      "outputs": [
        {
          "output_type": "display_data",
          "data": {
            "text/plain": [
              "<Figure size 432x288 with 1 Axes>"
            ],
            "image/png": "[encoded data removed]"
          },
          "metadata": {
            "needs_background": "light"
          }
        }
      ]
    },
    {
      "cell_type": "code",
      "source": [
        "sns.scatterplot(x='gender', y='mean_steps', data=df)\n",
        "plt.xlabel('gender')\n",
        "plt.ylabel('mean steps')\n",
        "plt.title('correlation between gender and meansteps')\n",
        "plt.show()\n"
      ],
      "metadata": {
        "colab": {
          "base_uri": "https://localhost:8080/",
          "height": 295
        },
        "id": "jejycr83YMpU",
        "outputId": "08bd2398-2762-4779-d22f-4eca26dccfdd"
      },
      "execution_count": null,
      "outputs": [
        {
          "output_type": "display_data",
          "data": {
            "text/plain": [
              "<Figure size 432x288 with 1 Axes>"
            ],
            "image/png": "[encoded data removed]"
          },
          "metadata": {
            "needs_background": "light"
          }
        }
      ]
    },
    {
      "cell_type": "code",
      "source": [
        "sns.scatterplot(x='age', y='mean_steps', data=df)\n",
        "plt.xlabel('age')\n",
        "plt.ylabel('mean steps')\n",
        "plt.title('correlation between age and mean steps')\n",
        "plt.show()"
      ],
      "metadata": {
        "colab": {
          "base_uri": "https://localhost:8080/",
          "height": 295
        },
        "id": "RLvs8r5IYOWm",
        "outputId": "2daaa4ec-22ef-4ae4-83e6-1765ee7c877e"
      },
      "execution_count": null,
      "outputs": [
        {
          "output_type": "display_data",
          "data": {
            "text/plain": [
              "<Figure size 432x288 with 1 Axes>"
            ],
            "image/png": "[encoded data removed]"
          },
          "metadata": {
            "needs_background": "light"
          }
        }
      ]
    },
    {
      "cell_type": "code",
      "source": [
        "# Make a correlation matrix of the numerical variables\n",
        "sns.pairplot(df[['height', 'weight', 'mean_steps']])\n",
        "plt.show()"
      ],
      "metadata": {
        "colab": {
          "base_uri": "https://localhost:8080/",
          "height": 550
        },
        "id": "zisbuuFdYjiG",
        "outputId": "05c4fd37-84f0-4c02-de5f-3c5645dadd42"
      },
      "execution_count": null,
      "outputs": [
        {
          "output_type": "display_data",
          "data": {
            "text/plain": [
              "<Figure size 540x540 with 12 Axes>"
            ],
            "image/png": "[encoded data removed]"
          },
          "metadata": {
            "needs_background": "light"
          }
        }
      ]
    },
    {
      "cell_type": "code",
      "source": [
        "corr = df[['height', 'weight', 'mean_steps']].corr()\n",
        "corr = round(corr,2)\n",
        "print(corr.head())\n",
        "\n",
        "sns.heatmap(corr, xticklabels=corr.columns, yticklabels=corr.columns)\n",
        "plt.show()"
      ],
      "metadata": {
        "colab": {
          "base_uri": "https://localhost:8080/",
          "height": 341
        },
        "id": "qMvLgIo7YnmU",
        "outputId": "e204a69b-4cb4-40d8-9e6a-577a35b9857c"
      },
      "execution_count": null,
      "outputs": [
        {
          "output_type": "stream",
          "name": "stdout",
          "text": [
            "            height  weight  mean_steps\n",
            "height        1.00    0.51       -0.07\n",
            "weight        0.51    1.00       -0.04\n",
            "mean_steps   -0.07   -0.04        1.00\n"
          ]
        },
        {
          "output_type": "display_data",
          "data": {
            "text/plain": [
              "<Figure size 432x288 with 2 Axes>"
            ],
            "image/png": "[encoded data removed]"
          },
          "metadata": {
            "needs_background": "light"
          }
        }
      ]
    },
    {
      "cell_type": "code",
      "source": [
        "# Describe and interpret the results"
      ],
      "metadata": {
        "id": "RRLFJqvhdq6Z"
      },
      "execution_count": null,
      "outputs": []
    },
    {
      "cell_type": "markdown",
      "source": [
        "### Predictive model"
      ],
      "metadata": {
        "id": "h0O0T2-nTAUm"
      }
    },
    {
      "cell_type": "code",
      "source": [
        "# Explain linear regression in your own words\n"
      ],
      "metadata": {
        "id": "yG_lQZ24TLIZ"
      },
      "execution_count": null,
      "outputs": []
    },
    {
      "cell_type": "code",
      "source": [
        "# Create dummy variables for the categorical variables\n",
        "dummy_gender = pd.get_dummies(df[\"gender\"])\n",
        "dummy_age = pd.get_dummies(df[\"age\"])\n",
        "df = pd.concat([df, dummy_gender[\"Female\"], dummy_age], axis=1)"
      ],
      "metadata": {
        "id": "RHQe8vqUY9vc"
      },
      "execution_count": null,
      "outputs": []
    },
    {
      "cell_type": "code",
      "source": [
        "df.head()"
      ],
      "metadata": {
        "colab": {
          "base_uri": "https://localhost:8080/",
          "height": 297
        },
        "id": "hUn-hyaOeI80",
        "outputId": "8a3ea676-f77d-49b1-a123-506832be77b8"
      },
      "execution_count": null,
      "outputs": [
        {
          "output_type": "execute_result",
          "data": {
            "text/plain": [
              "   id  20-6-2013  21-6-2013  22-6-2013  23-6-2013  24-6-2013  25-6-2013  \\\n",
              "0   1        NaN        NaN        NaN        NaN     3941.0    15733.0   \n",
              "1   2        NaN        NaN    10473.0      705.0     4287.0     5507.0   \n",
              "2   3        NaN    11428.0    12523.0     2553.0      190.0     2164.0   \n",
              "3   4        NaN        NaN        NaN        NaN        NaN        NaN   \n",
              "4   5        NaN        NaN        NaN        NaN        NaN        NaN   \n",
              "\n",
              "   26-6-2013  27-6-2013  28-6-2013  ...  height  weight   mean_steps  Female  \\\n",
              "0     9929.0    12879.0    10541.0  ...   178.0    98.0  9946.170732       0   \n",
              "1     4024.0     3926.0    14595.0  ...   180.0    77.0  5523.712500       0   \n",
              "2     8185.0     9630.0     8983.0  ...   180.0    83.0  8147.687500       0   \n",
              "3        NaN        NaN        NaN  ...   178.0    80.0  3038.500000       0   \n",
              "4        NaN        NaN        NaN  ...   167.0    61.0  4949.827586       1   \n",
              "\n",
              "   25-34  35-44  45-54  55-64  65+  <25  \n",
              "0      1      0      0      0    0    0  \n",
              "1      0      1      0      0    0    0  \n",
              "2      1      0      0      0    0    0  \n",
              "3      0      0      0      0    0    1  \n",
              "4      1      0      0      0    0    0  \n",
              "\n",
              "[5 rows x 345 columns]"
            ],
            "text/html": [
              "\n",
              "  <div id=\"df-f1ebb380-aa63-44d3-9a7f-9aee68230826\">\n",
              "    <div class=\"colab-df-container\">\n",
              "      <div>\n",
              "<style scoped>\n",
              "    .dataframe tbody tr th:only-of-type {\n",
              "        vertical-align: middle;\n",
              "    }\n",
              "\n",
              "    .dataframe tbody tr th {\n",
              "        vertical-align: top;\n",
              "    }\n",
              "\n",
              "    .dataframe thead th {\n",
              "        text-align: right;\n",
              "    }\n",
              "</style>\n",
              "<table border=\"1\" class=\"dataframe\">\n",
              "  <thead>\n",
              "    <tr style=\"text-align: right;\">\n",
              "      <th></th>\n",
              "      <th>id</th>\n",
              "      <th>20-6-2013</th>\n",
              "      <th>21-6-2013</th>\n",
              "      <th>22-6-2013</th>\n",
              "      <th>23-6-2013</th>\n",
              "      <th>24-6-2013</th>\n",
              "      <th>25-6-2013</th>\n",
              "      <th>26-6-2013</th>\n",
              "      <th>27-6-2013</th>\n",
              "      <th>28-6-2013</th>\n",
              "      <th>...</th>\n",
              "      <th>height</th>\n",
              "      <th>weight</th>\n",
              "      <th>mean_steps</th>\n",
              "      <th>Female</th>\n",
              "      <th>25-34</th>\n",
              "      <th>35-44</th>\n",
              "      <th>45-54</th>\n",
              "      <th>55-64</th>\n",
              "      <th>65+</th>\n",
              "      <th>&lt;25</th>\n",
              "    </tr>\n",
              "  </thead>\n",
              "  <tbody>\n",
              "    <tr>\n",
              "      <th>0</th>\n",
              "      <td>1</td>\n",
              "      <td>NaN</td>\n",
              "      <td>NaN</td>\n",
              "      <td>NaN</td>\n",
              "      <td>NaN</td>\n",
              "      <td>3941.0</td>\n",
              "      <td>15733.0</td>\n",
              "      <td>9929.0</td>\n",
              "      <td>12879.0</td>\n",
              "      <td>10541.0</td>\n",
              "      <td>...</td>\n",
              "      <td>178.0</td>\n",
              "      <td>98.0</td>\n",
              "      <td>9946.170732</td>\n",
              "      <td>0</td>\n",
              "      <td>1</td>\n",
              "      <td>0</td>\n",
              "      <td>0</td>\n",
              "      <td>0</td>\n",
              "      <td>0</td>\n",
              "      <td>0</td>\n",
              "    </tr>\n",
              "    <tr>\n",
              "      <th>1</th>\n",
              "      <td>2</td>\n",
              "      <td>NaN</td>\n",
              "      <td>NaN</td>\n",
              "      <td>10473.0</td>\n",
              "      <td>705.0</td>\n",
              "      <td>4287.0</td>\n",
              "      <td>5507.0</td>\n",
              "      <td>4024.0</td>\n",
              "      <td>3926.0</td>\n",
              "      <td>14595.0</td>\n",
              "      <td>...</td>\n",
              "      <td>180.0</td>\n",
              "      <td>77.0</td>\n",
              "      <td>5523.712500</td>\n",
              "      <td>0</td>\n",
              "      <td>0</td>\n",
              "      <td>1</td>\n",
              "      <td>0</td>\n",
              "      <td>0</td>\n",
              "      <td>0</td>\n",
              "      <td>0</td>\n",
              "    </tr>\n",
              "    <tr>\n",
              "      <th>2</th>\n",
              "      <td>3</td>\n",
              "      <td>NaN</td>\n",
              "      <td>11428.0</td>\n",
              "      <td>12523.0</td>\n",
              "      <td>2553.0</td>\n",
              "      <td>190.0</td>\n",
              "      <td>2164.0</td>\n",
              "      <td>8185.0</td>\n",
              "      <td>9630.0</td>\n",
              "      <td>8983.0</td>\n",
              "      <td>...</td>\n",
              "      <td>180.0</td>\n",
              "      <td>83.0</td>\n",
              "      <td>8147.687500</td>\n",
              "      <td>0</td>\n",
              "      <td>1</td>\n",
              "      <td>0</td>\n",
              "      <td>0</td>\n",
              "      <td>0</td>\n",
              "      <td>0</td>\n",
              "      <td>0</td>\n",
              "    </tr>\n",
              "    <tr>\n",
              "      <th>3</th>\n",
              "      <td>4</td>\n",
              "      <td>NaN</td>\n",
              "      <td>NaN</td>\n",
              "      <td>NaN</td>\n",
              "      <td>NaN</td>\n",
              "      <td>NaN</td>\n",
              "      <td>NaN</td>\n",
              "      <td>NaN</td>\n",
              "      <td>NaN</td>\n",
              "      <td>NaN</td>\n",
              "      <td>...</td>\n",
              "      <td>178.0</td>\n",
              "      <td>80.0</td>\n",
              "      <td>3038.500000</td>\n",
              "      <td>0</td>\n",
              "      <td>0</td>\n",
              "      <td>0</td>\n",
              "      <td>0</td>\n",
              "      <td>0</td>\n",
              "      <td>0</td>\n",
              "      <td>1</td>\n",
              "    </tr>\n",
              "    <tr>\n",
              "      <th>4</th>\n",
              "      <td>5</td>\n",
              "      <td>NaN</td>\n",
              "      <td>NaN</td>\n",
              "      <td>NaN</td>\n",
              "      <td>NaN</td>\n",
              "      <td>NaN</td>\n",
              "      <td>NaN</td>\n",
              "      <td>NaN</td>\n",
              "      <td>NaN</td>\n",
              "      <td>NaN</td>\n",
              "      <td>...</td>\n",
              "      <td>167.0</td>\n",
              "      <td>61.0</td>\n",
              "      <td>4949.827586</td>\n",
              "      <td>1</td>\n",
              "      <td>1</td>\n",
              "      <td>0</td>\n",
              "      <td>0</td>\n",
              "      <td>0</td>\n",
              "      <td>0</td>\n",
              "      <td>0</td>\n",
              "    </tr>\n",
              "  </tbody>\n",
              "</table>\n",
              "<p>5 rows × 345 columns</p>\n",
              "</div>\n",
              "      <button class=\"colab-df-convert\" onclick=\"convertToInteractive('df-f1ebb380-aa63-44d3-9a7f-9aee68230826')\"\n",
              "              title=\"Convert this dataframe to an interactive table.\"\n",
              "              style=\"display:none;\">\n",
              "        \n",
              "  <svg xmlns=\"http://www.w3.org/2000/svg\" height=\"24px\"viewBox=\"0 0 24 24\"\n",
              "       width=\"24px\">\n",
              "    <path d=\"M0 0h24v24H0V0z\" fill=\"none\"/>\n",
              "    <path d=\"M18.56 5.44l.94 2.06.94-2.06 2.06-.94-2.06-.94-.94-2.06-.94 2.06-2.06.94zm-11 1L8.5 8.5l.94-2.06 2.06-.94-2.06-.94L8.5 2.5l-.94 2.06-2.06.94zm10 10l.94 2.06.94-2.06 2.06-.94-2.06-.94-.94-2.06-.94 2.06-2.06.94z\"/><path d=\"M17.41 7.96l-1.37-1.37c-.4-.4-.92-.59-1.43-.59-.52 0-1.04.2-1.43.59L10.3 9.45l-7.72 7.72c-.78.78-.78 2.05 0 2.83L4 21.41c.39.39.9.59 1.41.59.51 0 1.02-.2 1.41-.59l7.78-7.78 2.81-2.81c.8-.78.8-2.07 0-2.86zM5.41 20L4 18.59l7.72-7.72 1.47 1.35L5.41 20z\"/>\n",
              "  </svg>\n",
              "      </button>\n",
              "      \n",
              "  <style>\n",
              "    .colab-df-container {\n",
              "      display:flex;\n",
              "      flex-wrap:wrap;\n",
              "      gap: 12px;\n",
              "    }\n",
              "\n",
              "    .colab-df-convert {\n",
              "      background-color: #E8F0FE;\n",
              "      border: none;\n",
              "      border-radius: 50%;\n",
              "      cursor: pointer;\n",
              "      display: none;\n",
              "      fill: #1967D2;\n",
              "      height: 32px;\n",
              "      padding: 0 0 0 0;\n",
              "      width: 32px;\n",
              "    }\n",
              "\n",
              "    .colab-df-convert:hover {\n",
              "      background-color: #E2EBFA;\n",
              "      box-shadow: 0px 1px 2px rgba(60, 64, 67, 0.3), 0px 1px 3px 1px rgba(60, 64, 67, 0.15);\n",
              "      fill: #174EA6;\n",
              "    }\n",
              "\n",
              "    [theme=dark] .colab-df-convert {\n",
              "      background-color: #3B4455;\n",
              "      fill: #D2E3FC;\n",
              "    }\n",
              "\n",
              "    [theme=dark] .colab-df-convert:hover {\n",
              "      background-color: #434B5C;\n",
              "      box-shadow: 0px 1px 3px 1px rgba(0, 0, 0, 0.15);\n",
              "      filter: drop-shadow(0px 1px 2px rgba(0, 0, 0, 0.3));\n",
              "      fill: #FFFFFF;\n",
              "    }\n",
              "  </style>\n",
              "\n",
              "      <script>\n",
              "        const buttonEl =\n",
              "          document.querySelector('#df-f1ebb380-aa63-44d3-9a7f-9aee68230826 button.colab-df-convert');\n",
              "        buttonEl.style.display =\n",
              "          google.colab.kernel.accessAllowed ? 'block' : 'none';\n",
              "\n",
              "        async function convertToInteractive(key) {\n",
              "          const element = document.querySelector('#df-f1ebb380-aa63-44d3-9a7f-9aee68230826');\n",
              "          const dataTable =\n",
              "            await google.colab.kernel.invokeFunction('convertToInteractive',\n",
              "                                                     [key], {});\n",
              "          if (!dataTable) return;\n",
              "\n",
              "          const docLinkHtml = 'Like what you see? Visit the ' +\n",
              "            '<a target=\"_blank\" href=https://colab.research.google.com/notebooks/data_table.ipynb>data table notebook</a>'\n",
              "            + ' to learn more about interactive tables.';\n",
              "          element.innerHTML = '';\n",
              "          dataTable['output_type'] = 'display_data';\n",
              "          await google.colab.output.renderOutput(dataTable, element);\n",
              "          const docLink = document.createElement('div');\n",
              "          docLink.innerHTML = docLinkHtml;\n",
              "          element.appendChild(docLink);\n",
              "        }\n",
              "      </script>\n",
              "    </div>\n",
              "  </div>\n",
              "  "
            ]
          },
          "metadata": {},
          "execution_count": 26
        }
      ]
    },
    {
      "cell_type": "code",
      "source": [
        "df = df[df['mean_steps'].notna()]"
      ],
      "metadata": {
        "id": "LaeG1hhag39J"
      },
      "execution_count": null,
      "outputs": []
    },
    {
      "cell_type": "code",
      "source": [
        "# Fit a linear regression model to predict the mean steps per participant, using the training data.\n",
        "##You can include all variables (easy), or you can try to find the combination that gives you the best fit (harder).\n",
        "y = df['mean_steps']\n",
        "X = df.iloc[:, -8:]\n",
        "\n",
        "X_train, X_test, y_train, y_test = train_test_split(X, y, test_size=0.3, random_state=1)\n",
        "X_train.head() #The train data\n",
        "\n",
        "lm = LinearRegression() #creates a new LR model\n",
        "lm.fit(X_train, y_train)"
      ],
      "metadata": {
        "colab": {
          "base_uri": "https://localhost:8080/"
        },
        "id": "h3IKrqGkZIx_",
        "outputId": "b9332d96-ca00-45b0-f481-290b75fbae1e"
      },
      "execution_count": null,
      "outputs": [
        {
          "output_type": "execute_result",
          "data": {
            "text/plain": [
              "LinearRegression()"
            ]
          },
          "metadata": {},
          "execution_count": 28
        }
      ]
    },
    {
      "cell_type": "code",
      "source": [
        "y_test_p = lm.predict(X_test)"
      ],
      "metadata": {
        "id": "fxBKZYweZJhH"
      },
      "execution_count": null,
      "outputs": []
    },
    {
      "cell_type": "markdown",
      "source": [
        "###evaluation"
      ],
      "metadata": {
        "id": "ZyuXgJCVTSdR"
      }
    },
    {
      "cell_type": "code",
      "source": [
        "#Evaluate the model on the test data\n",
        "sns.scatterplot(x=y_test,y=y_test_p)\n",
        "plt.xlim(0, 30000)\n",
        "plt.ylim(0, 30000)\n",
        "plt.plot([0, 30000], [0, 30000], color='red', lw=3)\n",
        "plt.xlabel('mean steps')\n",
        "plt.ylabel('mean steps predicted')\n",
        "plt.show()"
      ],
      "metadata": {
        "colab": {
          "base_uri": "https://localhost:8080/",
          "height": 283
        },
        "id": "QiAUQrtCZeOy",
        "outputId": "602e2779-d42b-459a-9255-0829821a914f"
      },
      "execution_count": null,
      "outputs": [
        {
          "output_type": "display_data",
          "data": {
            "text/plain": [
              "<Figure size 432x288 with 1 Axes>"
            ],
            "image/png": "[encoded data removed]"
          },
          "metadata": {
            "needs_background": "light"
          }
        }
      ]
    },
    {
      "cell_type": "code",
      "source": [
        "###Predictive power of the model (R2, RMSE)\n",
        "r2_score(y_test, y_test_p)"
      ],
      "metadata": {
        "colab": {
          "base_uri": "https://localhost:8080/"
        },
        "id": "1DJCgWzqZgL_",
        "outputId": "35c2645f-37e6-4f07-f1c6-95d88c6af315"
      },
      "execution_count": null,
      "outputs": [
        {
          "output_type": "execute_result",
          "data": {
            "text/plain": [
              "1.0"
            ]
          },
          "metadata": {},
          "execution_count": 31
        }
      ]
    },
    {
      "cell_type": "code",
      "source": [
        "#Describe and interpret the results\n",
        "math.sqrt(mean_squared_error(y_test, y_test_p))"
      ],
      "metadata": {
        "colab": {
          "base_uri": "https://localhost:8080/"
        },
        "id": "dpxz31A-Zowm",
        "outputId": "998299fb-e53a-4884-b13c-9f69fe8a6707"
      },
      "execution_count": null,
      "outputs": [
        {
          "output_type": "execute_result",
          "data": {
            "text/plain": [
              "1.2744808733471877e-12"
            ]
          },
          "metadata": {},
          "execution_count": 32
        }
      ]
    },
    {
      "cell_type": "code",
      "source": [
        "lm.intercept_"
      ],
      "metadata": {
        "colab": {
          "base_uri": "https://localhost:8080/"
        },
        "id": "-C93bt2TZpok",
        "outputId": "6a1fe63c-1dc1-4e02-afb1-0171c47b3715"
      },
      "execution_count": null,
      "outputs": [
        {
          "output_type": "execute_result",
          "data": {
            "text/plain": [
              "-1.8189894035458565e-12"
            ]
          },
          "metadata": {},
          "execution_count": 33
        }
      ]
    },
    {
      "cell_type": "code",
      "source": [
        "lm.coef_"
      ],
      "metadata": {
        "colab": {
          "base_uri": "https://localhost:8080/"
        },
        "id": "Wk17ai25jU3W",
        "outputId": "3ec90067-ca8d-4a12-94ec-a35aaeea2c52"
      },
      "execution_count": null,
      "outputs": [
        {
          "output_type": "execute_result",
          "data": {
            "text/plain": [
              "array([ 1.00000000e+00, -3.31541314e-14, -2.73284800e-14, -2.10434772e-15,\n",
              "       -4.24696893e-14, -5.04891762e-14,  1.27865945e-13, -5.47425165e-15])"
            ]
          },
          "metadata": {},
          "execution_count": 34
        }
      ]
    },
    {
      "cell_type": "markdown",
      "source": [
        "###conclusion\n",
        "The model explaines 100% of total variance in mean steps, it seems the model is overfitting in some way, while i runned it several times, the previous results were quite different ???"
      ],
      "metadata": {
        "id": "D3e8nMwfTdJq"
      }
    }
  ]
}