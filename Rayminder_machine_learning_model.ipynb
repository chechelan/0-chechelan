{
  "nbformat": 4,
  "nbformat_minor": 0,
  "metadata": {
    "colab": {
      "provenance": [],
      "authorship_tag": "ABX9TyMOoLCr8iUoIGqVH1f0dtFx",
      "include_colab_link": true
    },
    "kernelspec": {
      "name": "python3",
      "display_name": "Python 3"
    },
    "language_info": {
      "name": "python"
    }
  },
  "cells": [
    {
      "cell_type": "markdown",
      "metadata": {
        "id": "view-in-github",
        "colab_type": "text"
      },
      "source": [
        "<a href=\"https://colab.research.google.com/github/chechelan/0-chechelan/blob/main/Rayminder_machine_learning_model.ipynb\" target=\"_parent\"><img src=\"https://colab.research.google.com/assets/colab-badge.svg\" alt=\"Open In Colab\"/></a>"
      ]
    },
    {
      "cell_type": "markdown",
      "source": [
        "# About\n",
        "- In this notebook, I will first import user behavioral dataset which was merged by exploratory group records and visual crossing API data.\n",
        "- Then I will do data cleaning and exploratory analysis on the dataset.\n",
        "- Then I will test and evaluate four predictive models ( logistic regression, decision trees, random forest and K-nearest neighbors)."
      ],
      "metadata": {
        "id": "QcaNDTIAfsTY"
      }
    },
    {
      "cell_type": "markdown",
      "source": [
        "# Load and review dataset"
      ],
      "metadata": {
        "id": "KQ_OqtOiFUyQ"
      }
    },
    {
      "cell_type": "code",
      "source": [
        "# initiate google drive\n",
        "from google.colab import drive\n",
        "drive.mount('/content/gdrive')"
      ],
      "metadata": {
        "colab": {
          "base_uri": "https://localhost:8080/"
        },
        "id": "d_jnQ69ygfL7",
        "outputId": "3bc439ce-03e8-4d0f-c495-422f586a0650"
      },
      "execution_count": null,
      "outputs": [
        {
          "output_type": "stream",
          "name": "stdout",
          "text": [
            "Mounted at /content/gdrive\n"
          ]
        }
      ]
    },
    {
      "cell_type": "code",
      "source": [
        "import pandas as pd"
      ],
      "metadata": {
        "id": "4pBwt33hgrdu"
      },
      "execution_count": null,
      "outputs": []
    },
    {
      "cell_type": "code",
      "source": [
        "# load the dataset\n",
        "df = pd.read_csv('gdrive/My Drive/rmdataset.csv')"
      ],
      "metadata": {
        "id": "7VE5a9logrxM"
      },
      "execution_count": null,
      "outputs": []
    },
    {
      "cell_type": "code",
      "source": [
        "df.head(2)"
      ],
      "metadata": {
        "colab": {
          "base_uri": "https://localhost:8080/",
          "height": 240
        },
        "id": "uF1tf_y1g-eQ",
        "outputId": "0d7e8f9c-ce49-44c6-9b6a-225d7e687e89"
      },
      "execution_count": null,
      "outputs": [
        {
          "output_type": "execute_result",
          "data": {
            "text/plain": [
              "      city        date  datetime  uvindex  temp conditions       icon  \\\n",
              "0  beijing  2023-07-05  08:00:00      4.0  27.3      Clear  clear-day   \n",
              "1  beijing  2023-07-05  10:00:00      8.0  31.0      Clear  clear-day   \n",
              "\n",
              "   cloudcover  userid  age  ... skintype  skinconcerns makeup    where  \\\n",
              "0         0.0      25   31  ...        4            no    yes  indoors   \n",
              "1         0.0      25   31  ...        4            no    yes  indoors   \n",
              "\n",
              "  acitivity SPF  forwhom reminder_order  reminder amount  \n",
              "0       NaN  30   myself              1       yes      c  \n",
              "1       NaN  30   myself              2       yes      a  \n",
              "\n",
              "[2 rows x 21 columns]"
            ],
            "text/html": [
              "\n",
              "\n",
              "  <div id=\"df-bbe6e0d3-b860-4a06-af65-24e1d08a919f\">\n",
              "    <div class=\"colab-df-container\">\n",
              "      <div>\n",
              "<style scoped>\n",
              "    .dataframe tbody tr th:only-of-type {\n",
              "        vertical-align: middle;\n",
              "    }\n",
              "\n",
              "    .dataframe tbody tr th {\n",
              "        vertical-align: top;\n",
              "    }\n",
              "\n",
              "    .dataframe thead th {\n",
              "        text-align: right;\n",
              "    }\n",
              "</style>\n",
              "<table border=\"1\" class=\"dataframe\">\n",
              "  <thead>\n",
              "    <tr style=\"text-align: right;\">\n",
              "      <th></th>\n",
              "      <th>city</th>\n",
              "      <th>date</th>\n",
              "      <th>datetime</th>\n",
              "      <th>uvindex</th>\n",
              "      <th>temp</th>\n",
              "      <th>conditions</th>\n",
              "      <th>icon</th>\n",
              "      <th>cloudcover</th>\n",
              "      <th>userid</th>\n",
              "      <th>age</th>\n",
              "      <th>...</th>\n",
              "      <th>skintype</th>\n",
              "      <th>skinconcerns</th>\n",
              "      <th>makeup</th>\n",
              "      <th>where</th>\n",
              "      <th>acitivity</th>\n",
              "      <th>SPF</th>\n",
              "      <th>forwhom</th>\n",
              "      <th>reminder_order</th>\n",
              "      <th>reminder</th>\n",
              "      <th>amount</th>\n",
              "    </tr>\n",
              "  </thead>\n",
              "  <tbody>\n",
              "    <tr>\n",
              "      <th>0</th>\n",
              "      <td>beijing</td>\n",
              "      <td>2023-07-05</td>\n",
              "      <td>08:00:00</td>\n",
              "      <td>4.0</td>\n",
              "      <td>27.3</td>\n",
              "      <td>Clear</td>\n",
              "      <td>clear-day</td>\n",
              "      <td>0.0</td>\n",
              "      <td>25</td>\n",
              "      <td>31</td>\n",
              "      <td>...</td>\n",
              "      <td>4</td>\n",
              "      <td>no</td>\n",
              "      <td>yes</td>\n",
              "      <td>indoors</td>\n",
              "      <td>NaN</td>\n",
              "      <td>30</td>\n",
              "      <td>myself</td>\n",
              "      <td>1</td>\n",
              "      <td>yes</td>\n",
              "      <td>c</td>\n",
              "    </tr>\n",
              "    <tr>\n",
              "      <th>1</th>\n",
              "      <td>beijing</td>\n",
              "      <td>2023-07-05</td>\n",
              "      <td>10:00:00</td>\n",
              "      <td>8.0</td>\n",
              "      <td>31.0</td>\n",
              "      <td>Clear</td>\n",
              "      <td>clear-day</td>\n",
              "      <td>0.0</td>\n",
              "      <td>25</td>\n",
              "      <td>31</td>\n",
              "      <td>...</td>\n",
              "      <td>4</td>\n",
              "      <td>no</td>\n",
              "      <td>yes</td>\n",
              "      <td>indoors</td>\n",
              "      <td>NaN</td>\n",
              "      <td>30</td>\n",
              "      <td>myself</td>\n",
              "      <td>2</td>\n",
              "      <td>yes</td>\n",
              "      <td>a</td>\n",
              "    </tr>\n",
              "  </tbody>\n",
              "</table>\n",
              "<p>2 rows × 21 columns</p>\n",
              "</div>\n",
              "      <button class=\"colab-df-convert\" onclick=\"convertToInteractive('df-bbe6e0d3-b860-4a06-af65-24e1d08a919f')\"\n",
              "              title=\"Convert this dataframe to an interactive table.\"\n",
              "              style=\"display:none;\">\n",
              "\n",
              "  <svg xmlns=\"http://www.w3.org/2000/svg\" height=\"24px\"viewBox=\"0 0 24 24\"\n",
              "       width=\"24px\">\n",
              "    <path d=\"M0 0h24v24H0V0z\" fill=\"none\"/>\n",
              "    <path d=\"M18.56 5.44l.94 2.06.94-2.06 2.06-.94-2.06-.94-.94-2.06-.94 2.06-2.06.94zm-11 1L8.5 8.5l.94-2.06 2.06-.94-2.06-.94L8.5 2.5l-.94 2.06-2.06.94zm10 10l.94 2.06.94-2.06 2.06-.94-2.06-.94-.94-2.06-.94 2.06-2.06.94z\"/><path d=\"M17.41 7.96l-1.37-1.37c-.4-.4-.92-.59-1.43-.59-.52 0-1.04.2-1.43.59L10.3 9.45l-7.72 7.72c-.78.78-.78 2.05 0 2.83L4 21.41c.39.39.9.59 1.41.59.51 0 1.02-.2 1.41-.59l7.78-7.78 2.81-2.81c.8-.78.8-2.07 0-2.86zM5.41 20L4 18.59l7.72-7.72 1.47 1.35L5.41 20z\"/>\n",
              "  </svg>\n",
              "      </button>\n",
              "\n",
              "\n",
              "\n",
              "    <div id=\"df-0417d042-dd4b-4d48-9fdb-7dc721e5387c\">\n",
              "      <button class=\"colab-df-quickchart\" onclick=\"quickchart('df-0417d042-dd4b-4d48-9fdb-7dc721e5387c')\"\n",
              "              title=\"Suggest charts.\"\n",
              "              style=\"display:none;\">\n",
              "\n",
              "<svg xmlns=\"http://www.w3.org/2000/svg\" height=\"24px\"viewBox=\"0 0 24 24\"\n",
              "     width=\"24px\">\n",
              "    <g>\n",
              "        <path d=\"M19 3H5c-1.1 0-2 .9-2 2v14c0 1.1.9 2 2 2h14c1.1 0 2-.9 2-2V5c0-1.1-.9-2-2-2zM9 17H7v-7h2v7zm4 0h-2V7h2v10zm4 0h-2v-4h2v4z\"/>\n",
              "    </g>\n",
              "</svg>\n",
              "      </button>\n",
              "    </div>\n",
              "\n",
              "<style>\n",
              "  .colab-df-quickchart {\n",
              "    background-color: #E8F0FE;\n",
              "    border: none;\n",
              "    border-radius: 50%;\n",
              "    cursor: pointer;\n",
              "    display: none;\n",
              "    fill: #1967D2;\n",
              "    height: 32px;\n",
              "    padding: 0 0 0 0;\n",
              "    width: 32px;\n",
              "  }\n",
              "\n",
              "  .colab-df-quickchart:hover {\n",
              "    background-color: #E2EBFA;\n",
              "    box-shadow: 0px 1px 2px rgba(60, 64, 67, 0.3), 0px 1px 3px 1px rgba(60, 64, 67, 0.15);\n",
              "    fill: #174EA6;\n",
              "  }\n",
              "\n",
              "  [theme=dark] .colab-df-quickchart {\n",
              "    background-color: #3B4455;\n",
              "    fill: #D2E3FC;\n",
              "  }\n",
              "\n",
              "  [theme=dark] .colab-df-quickchart:hover {\n",
              "    background-color: #434B5C;\n",
              "    box-shadow: 0px 1px 3px 1px rgba(0, 0, 0, 0.15);\n",
              "    filter: drop-shadow(0px 1px 2px rgba(0, 0, 0, 0.3));\n",
              "    fill: #FFFFFF;\n",
              "  }\n",
              "</style>\n",
              "\n",
              "    <script>\n",
              "      async function quickchart(key) {\n",
              "        const containerElement = document.querySelector('#' + key);\n",
              "        const charts = await google.colab.kernel.invokeFunction(\n",
              "            'suggestCharts', [key], {});\n",
              "      }\n",
              "    </script>\n",
              "\n",
              "\n",
              "      <script>\n",
              "\n",
              "function displayQuickchartButton(domScope) {\n",
              "  let quickchartButtonEl =\n",
              "    domScope.querySelector('#df-0417d042-dd4b-4d48-9fdb-7dc721e5387c button.colab-df-quickchart');\n",
              "  quickchartButtonEl.style.display =\n",
              "    google.colab.kernel.accessAllowed ? 'block' : 'none';\n",
              "}\n",
              "\n",
              "        displayQuickchartButton(document);\n",
              "      </script>\n",
              "      <style>\n",
              "    .colab-df-container {\n",
              "      display:flex;\n",
              "      flex-wrap:wrap;\n",
              "      gap: 12px;\n",
              "    }\n",
              "\n",
              "    .colab-df-convert {\n",
              "      background-color: #E8F0FE;\n",
              "      border: none;\n",
              "      border-radius: 50%;\n",
              "      cursor: pointer;\n",
              "      display: none;\n",
              "      fill: #1967D2;\n",
              "      height: 32px;\n",
              "      padding: 0 0 0 0;\n",
              "      width: 32px;\n",
              "    }\n",
              "\n",
              "    .colab-df-convert:hover {\n",
              "      background-color: #E2EBFA;\n",
              "      box-shadow: 0px 1px 2px rgba(60, 64, 67, 0.3), 0px 1px 3px 1px rgba(60, 64, 67, 0.15);\n",
              "      fill: #174EA6;\n",
              "    }\n",
              "\n",
              "    [theme=dark] .colab-df-convert {\n",
              "      background-color: #3B4455;\n",
              "      fill: #D2E3FC;\n",
              "    }\n",
              "\n",
              "    [theme=dark] .colab-df-convert:hover {\n",
              "      background-color: #434B5C;\n",
              "      box-shadow: 0px 1px 3px 1px rgba(0, 0, 0, 0.15);\n",
              "      filter: drop-shadow(0px 1px 2px rgba(0, 0, 0, 0.3));\n",
              "      fill: #FFFFFF;\n",
              "    }\n",
              "  </style>\n",
              "\n",
              "      <script>\n",
              "        const buttonEl =\n",
              "          document.querySelector('#df-bbe6e0d3-b860-4a06-af65-24e1d08a919f button.colab-df-convert');\n",
              "        buttonEl.style.display =\n",
              "          google.colab.kernel.accessAllowed ? 'block' : 'none';\n",
              "\n",
              "        async function convertToInteractive(key) {\n",
              "          const element = document.querySelector('#df-bbe6e0d3-b860-4a06-af65-24e1d08a919f');\n",
              "          const dataTable =\n",
              "            await google.colab.kernel.invokeFunction('convertToInteractive',\n",
              "                                                     [key], {});\n",
              "          if (!dataTable) return;\n",
              "\n",
              "          const docLinkHtml = 'Like what you see? Visit the ' +\n",
              "            '<a target=\"_blank\" href=https://colab.research.google.com/notebooks/data_table.ipynb>data table notebook</a>'\n",
              "            + ' to learn more about interactive tables.';\n",
              "          element.innerHTML = '';\n",
              "          dataTable['output_type'] = 'display_data';\n",
              "          await google.colab.output.renderOutput(dataTable, element);\n",
              "          const docLink = document.createElement('div');\n",
              "          docLink.innerHTML = docLinkHtml;\n",
              "          element.appendChild(docLink);\n",
              "        }\n",
              "      </script>\n",
              "    </div>\n",
              "  </div>\n"
            ]
          },
          "metadata": {},
          "execution_count": 4
        }
      ]
    },
    {
      "cell_type": "markdown",
      "source": [
        "# Data preprocessing"
      ],
      "metadata": {
        "id": "CSHc6BcJXS0z"
      }
    },
    {
      "cell_type": "code",
      "source": [
        "# check the missing values\n",
        "missing_values = df.isnull().sum()\n",
        "missing_values"
      ],
      "metadata": {
        "colab": {
          "base_uri": "https://localhost:8080/"
        },
        "id": "4AKS4N-8iw64",
        "outputId": "7f78d2b7-a92e-4ec3-d5b4-0b769e9202af"
      },
      "execution_count": null,
      "outputs": [
        {
          "output_type": "execute_result",
          "data": {
            "text/plain": [
              "city                0\n",
              "date                0\n",
              "datetime            0\n",
              "uvindex             0\n",
              "temp                0\n",
              "conditions          0\n",
              "icon                0\n",
              "cloudcover          0\n",
              "userid              0\n",
              "age                 0\n",
              "gender              0\n",
              "skintype            0\n",
              "skinconcerns        0\n",
              "makeup              0\n",
              "where               0\n",
              "acitivity         744\n",
              "SPF                 0\n",
              "forwhom             0\n",
              "reminder_order      0\n",
              "reminder            0\n",
              "amount              0\n",
              "dtype: int64"
            ]
          },
          "metadata": {},
          "execution_count": 5
        }
      ]
    },
    {
      "cell_type": "markdown",
      "source": [
        "The 'activity' column required participants to fill in on their own, most of them do not fill this column, so i decide to categorize it as 'unknown' to protect the small dataset."
      ],
      "metadata": {
        "id": "StDOO6CRjOFh"
      }
    },
    {
      "cell_type": "code",
      "source": [
        "# Replace missing values in the 'acitivity' column with 'Unknown'\n",
        "df['acitivity'].fillna('unknown', inplace=True)\n",
        "\n",
        "# Check again for missing values to ensure they've been handled\n",
        "missing_values_after = df.isnull().sum()\n",
        "\n",
        "missing_values_after\n"
      ],
      "metadata": {
        "colab": {
          "base_uri": "https://localhost:8080/"
        },
        "id": "sp6g5lXhj1vS",
        "outputId": "0e118ca9-ec11-4814-eacd-69a09a63fc3c"
      },
      "execution_count": null,
      "outputs": [
        {
          "output_type": "execute_result",
          "data": {
            "text/plain": [
              "city              0\n",
              "date              0\n",
              "datetime          0\n",
              "uvindex           0\n",
              "temp              0\n",
              "conditions        0\n",
              "icon              0\n",
              "cloudcover        0\n",
              "userid            0\n",
              "age               0\n",
              "gender            0\n",
              "skintype          0\n",
              "skinconcerns      0\n",
              "makeup            0\n",
              "where             0\n",
              "acitivity         0\n",
              "SPF               0\n",
              "forwhom           0\n",
              "reminder_order    0\n",
              "reminder          0\n",
              "amount            0\n",
              "dtype: int64"
            ]
          },
          "metadata": {},
          "execution_count": 6
        }
      ]
    },
    {
      "cell_type": "code",
      "source": [
        "# Check the distribution of the target column 'reminder'\n",
        "reminder_distribution = df['reminder'].value_counts()\n",
        "\n",
        "reminder_distribution\n"
      ],
      "metadata": {
        "colab": {
          "base_uri": "https://localhost:8080/"
        },
        "id": "FSMtOUQJjsev",
        "outputId": "09265269-84af-42f1-b517-39d4a77fad2f"
      },
      "execution_count": null,
      "outputs": [
        {
          "output_type": "execute_result",
          "data": {
            "text/plain": [
              "no     519\n",
              "yes    321\n",
              "Name: reminder, dtype: int64"
            ]
          },
          "metadata": {},
          "execution_count": 7
        }
      ]
    },
    {
      "cell_type": "markdown",
      "source": [
        "The distribution of the reminder column indicates that there are 519 \"no\" entries and 321 \"yes\" entries. This means the dataset is somewhat imbalanced, but not severely."
      ],
      "metadata": {
        "id": "rHsD9Ws_kKNk"
      }
    },
    {
      "cell_type": "markdown",
      "source": [
        "# builde a new dataframe with selected columns for model training\n",
        "the columns related with users demographic information and environmental data are selected, because from the qualitative research it shows these are major decision factors for the users."
      ],
      "metadata": {
        "id": "gSh6hWgJXfi0"
      }
    },
    {
      "cell_type": "code",
      "source": [
        "selected_columns = [\n",
        "    'uvindex', 'temp', 'conditions', 'cloudcover', 'age', 'gender',\n",
        "    'skintype', 'makeup', 'where', 'SPF', 'forwhom', 'reminder_order', 'reminder'\n",
        "]\n",
        "new_dataframe = df[selected_columns]\n",
        "\n",
        "# Display the first 5 rows of the new dataframe\n",
        "new_dataframe.head()"
      ],
      "metadata": {
        "colab": {
          "base_uri": "https://localhost:8080/",
          "height": 206
        },
        "id": "hVO4wCXskcCH",
        "outputId": "de70b0ad-1d43-4218-8b31-14c1ad0ae5bf"
      },
      "execution_count": null,
      "outputs": [
        {
          "output_type": "execute_result",
          "data": {
            "text/plain": [
              "   uvindex  temp conditions  cloudcover  age  gender  skintype makeup  \\\n",
              "0      4.0  27.3      Clear         0.0   31  female         4    yes   \n",
              "1      8.0  31.0      Clear         0.0   31  female         4    yes   \n",
              "2     10.0  38.0      Clear         0.0   31  female         4    yes   \n",
              "3      9.0  38.8      Clear         0.0   31  female         4    yes   \n",
              "4      7.0  40.0      Clear         0.0   31  female         4    yes   \n",
              "\n",
              "     where  SPF forwhom  reminder_order reminder  \n",
              "0  indoors   30  myself               1      yes  \n",
              "1  indoors   30  myself               2      yes  \n",
              "2  indoors   30  myself               3      yes  \n",
              "3  indoors   30  myself               4      yes  \n",
              "4  indoors   30  myself               5       no  "
            ],
            "text/html": [
              "\n",
              "\n",
              "  <div id=\"df-abf200b2-a5d8-4353-8af7-6d840296d7a8\">\n",
              "    <div class=\"colab-df-container\">\n",
              "      <div>\n",
              "<style scoped>\n",
              "    .dataframe tbody tr th:only-of-type {\n",
              "        vertical-align: middle;\n",
              "    }\n",
              "\n",
              "    .dataframe tbody tr th {\n",
              "        vertical-align: top;\n",
              "    }\n",
              "\n",
              "    .dataframe thead th {\n",
              "        text-align: right;\n",
              "    }\n",
              "</style>\n",
              "<table border=\"1\" class=\"dataframe\">\n",
              "  <thead>\n",
              "    <tr style=\"text-align: right;\">\n",
              "      <th></th>\n",
              "      <th>uvindex</th>\n",
              "      <th>temp</th>\n",
              "      <th>conditions</th>\n",
              "      <th>cloudcover</th>\n",
              "      <th>age</th>\n",
              "      <th>gender</th>\n",
              "      <th>skintype</th>\n",
              "      <th>makeup</th>\n",
              "      <th>where</th>\n",
              "      <th>SPF</th>\n",
              "      <th>forwhom</th>\n",
              "      <th>reminder_order</th>\n",
              "      <th>reminder</th>\n",
              "    </tr>\n",
              "  </thead>\n",
              "  <tbody>\n",
              "    <tr>\n",
              "      <th>0</th>\n",
              "      <td>4.0</td>\n",
              "      <td>27.3</td>\n",
              "      <td>Clear</td>\n",
              "      <td>0.0</td>\n",
              "      <td>31</td>\n",
              "      <td>female</td>\n",
              "      <td>4</td>\n",
              "      <td>yes</td>\n",
              "      <td>indoors</td>\n",
              "      <td>30</td>\n",
              "      <td>myself</td>\n",
              "      <td>1</td>\n",
              "      <td>yes</td>\n",
              "    </tr>\n",
              "    <tr>\n",
              "      <th>1</th>\n",
              "      <td>8.0</td>\n",
              "      <td>31.0</td>\n",
              "      <td>Clear</td>\n",
              "      <td>0.0</td>\n",
              "      <td>31</td>\n",
              "      <td>female</td>\n",
              "      <td>4</td>\n",
              "      <td>yes</td>\n",
              "      <td>indoors</td>\n",
              "      <td>30</td>\n",
              "      <td>myself</td>\n",
              "      <td>2</td>\n",
              "      <td>yes</td>\n",
              "    </tr>\n",
              "    <tr>\n",
              "      <th>2</th>\n",
              "      <td>10.0</td>\n",
              "      <td>38.0</td>\n",
              "      <td>Clear</td>\n",
              "      <td>0.0</td>\n",
              "      <td>31</td>\n",
              "      <td>female</td>\n",
              "      <td>4</td>\n",
              "      <td>yes</td>\n",
              "      <td>indoors</td>\n",
              "      <td>30</td>\n",
              "      <td>myself</td>\n",
              "      <td>3</td>\n",
              "      <td>yes</td>\n",
              "    </tr>\n",
              "    <tr>\n",
              "      <th>3</th>\n",
              "      <td>9.0</td>\n",
              "      <td>38.8</td>\n",
              "      <td>Clear</td>\n",
              "      <td>0.0</td>\n",
              "      <td>31</td>\n",
              "      <td>female</td>\n",
              "      <td>4</td>\n",
              "      <td>yes</td>\n",
              "      <td>indoors</td>\n",
              "      <td>30</td>\n",
              "      <td>myself</td>\n",
              "      <td>4</td>\n",
              "      <td>yes</td>\n",
              "    </tr>\n",
              "    <tr>\n",
              "      <th>4</th>\n",
              "      <td>7.0</td>\n",
              "      <td>40.0</td>\n",
              "      <td>Clear</td>\n",
              "      <td>0.0</td>\n",
              "      <td>31</td>\n",
              "      <td>female</td>\n",
              "      <td>4</td>\n",
              "      <td>yes</td>\n",
              "      <td>indoors</td>\n",
              "      <td>30</td>\n",
              "      <td>myself</td>\n",
              "      <td>5</td>\n",
              "      <td>no</td>\n",
              "    </tr>\n",
              "  </tbody>\n",
              "</table>\n",
              "</div>\n",
              "      <button class=\"colab-df-convert\" onclick=\"convertToInteractive('df-abf200b2-a5d8-4353-8af7-6d840296d7a8')\"\n",
              "              title=\"Convert this dataframe to an interactive table.\"\n",
              "              style=\"display:none;\">\n",
              "\n",
              "  <svg xmlns=\"http://www.w3.org/2000/svg\" height=\"24px\"viewBox=\"0 0 24 24\"\n",
              "       width=\"24px\">\n",
              "    <path d=\"M0 0h24v24H0V0z\" fill=\"none\"/>\n",
              "    <path d=\"M18.56 5.44l.94 2.06.94-2.06 2.06-.94-2.06-.94-.94-2.06-.94 2.06-2.06.94zm-11 1L8.5 8.5l.94-2.06 2.06-.94-2.06-.94L8.5 2.5l-.94 2.06-2.06.94zm10 10l.94 2.06.94-2.06 2.06-.94-2.06-.94-.94-2.06-.94 2.06-2.06.94z\"/><path d=\"M17.41 7.96l-1.37-1.37c-.4-.4-.92-.59-1.43-.59-.52 0-1.04.2-1.43.59L10.3 9.45l-7.72 7.72c-.78.78-.78 2.05 0 2.83L4 21.41c.39.39.9.59 1.41.59.51 0 1.02-.2 1.41-.59l7.78-7.78 2.81-2.81c.8-.78.8-2.07 0-2.86zM5.41 20L4 18.59l7.72-7.72 1.47 1.35L5.41 20z\"/>\n",
              "  </svg>\n",
              "      </button>\n",
              "\n",
              "\n",
              "\n",
              "    <div id=\"df-5fd12e68-ba3b-4048-8ee7-7d9f777761c8\">\n",
              "      <button class=\"colab-df-quickchart\" onclick=\"quickchart('df-5fd12e68-ba3b-4048-8ee7-7d9f777761c8')\"\n",
              "              title=\"Suggest charts.\"\n",
              "              style=\"display:none;\">\n",
              "\n",
              "<svg xmlns=\"http://www.w3.org/2000/svg\" height=\"24px\"viewBox=\"0 0 24 24\"\n",
              "     width=\"24px\">\n",
              "    <g>\n",
              "        <path d=\"M19 3H5c-1.1 0-2 .9-2 2v14c0 1.1.9 2 2 2h14c1.1 0 2-.9 2-2V5c0-1.1-.9-2-2-2zM9 17H7v-7h2v7zm4 0h-2V7h2v10zm4 0h-2v-4h2v4z\"/>\n",
              "    </g>\n",
              "</svg>\n",
              "      </button>\n",
              "    </div>\n",
              "\n",
              "<style>\n",
              "  .colab-df-quickchart {\n",
              "    background-color: #E8F0FE;\n",
              "    border: none;\n",
              "    border-radius: 50%;\n",
              "    cursor: pointer;\n",
              "    display: none;\n",
              "    fill: #1967D2;\n",
              "    height: 32px;\n",
              "    padding: 0 0 0 0;\n",
              "    width: 32px;\n",
              "  }\n",
              "\n",
              "  .colab-df-quickchart:hover {\n",
              "    background-color: #E2EBFA;\n",
              "    box-shadow: 0px 1px 2px rgba(60, 64, 67, 0.3), 0px 1px 3px 1px rgba(60, 64, 67, 0.15);\n",
              "    fill: #174EA6;\n",
              "  }\n",
              "\n",
              "  [theme=dark] .colab-df-quickchart {\n",
              "    background-color: #3B4455;\n",
              "    fill: #D2E3FC;\n",
              "  }\n",
              "\n",
              "  [theme=dark] .colab-df-quickchart:hover {\n",
              "    background-color: #434B5C;\n",
              "    box-shadow: 0px 1px 3px 1px rgba(0, 0, 0, 0.15);\n",
              "    filter: drop-shadow(0px 1px 2px rgba(0, 0, 0, 0.3));\n",
              "    fill: #FFFFFF;\n",
              "  }\n",
              "</style>\n",
              "\n",
              "    <script>\n",
              "      async function quickchart(key) {\n",
              "        const containerElement = document.querySelector('#' + key);\n",
              "        const charts = await google.colab.kernel.invokeFunction(\n",
              "            'suggestCharts', [key], {});\n",
              "      }\n",
              "    </script>\n",
              "\n",
              "\n",
              "      <script>\n",
              "\n",
              "function displayQuickchartButton(domScope) {\n",
              "  let quickchartButtonEl =\n",
              "    domScope.querySelector('#df-5fd12e68-ba3b-4048-8ee7-7d9f777761c8 button.colab-df-quickchart');\n",
              "  quickchartButtonEl.style.display =\n",
              "    google.colab.kernel.accessAllowed ? 'block' : 'none';\n",
              "}\n",
              "\n",
              "        displayQuickchartButton(document);\n",
              "      </script>\n",
              "      <style>\n",
              "    .colab-df-container {\n",
              "      display:flex;\n",
              "      flex-wrap:wrap;\n",
              "      gap: 12px;\n",
              "    }\n",
              "\n",
              "    .colab-df-convert {\n",
              "      background-color: #E8F0FE;\n",
              "      border: none;\n",
              "      border-radius: 50%;\n",
              "      cursor: pointer;\n",
              "      display: none;\n",
              "      fill: #1967D2;\n",
              "      height: 32px;\n",
              "      padding: 0 0 0 0;\n",
              "      width: 32px;\n",
              "    }\n",
              "\n",
              "    .colab-df-convert:hover {\n",
              "      background-color: #E2EBFA;\n",
              "      box-shadow: 0px 1px 2px rgba(60, 64, 67, 0.3), 0px 1px 3px 1px rgba(60, 64, 67, 0.15);\n",
              "      fill: #174EA6;\n",
              "    }\n",
              "\n",
              "    [theme=dark] .colab-df-convert {\n",
              "      background-color: #3B4455;\n",
              "      fill: #D2E3FC;\n",
              "    }\n",
              "\n",
              "    [theme=dark] .colab-df-convert:hover {\n",
              "      background-color: #434B5C;\n",
              "      box-shadow: 0px 1px 3px 1px rgba(0, 0, 0, 0.15);\n",
              "      filter: drop-shadow(0px 1px 2px rgba(0, 0, 0, 0.3));\n",
              "      fill: #FFFFFF;\n",
              "    }\n",
              "  </style>\n",
              "\n",
              "      <script>\n",
              "        const buttonEl =\n",
              "          document.querySelector('#df-abf200b2-a5d8-4353-8af7-6d840296d7a8 button.colab-df-convert');\n",
              "        buttonEl.style.display =\n",
              "          google.colab.kernel.accessAllowed ? 'block' : 'none';\n",
              "\n",
              "        async function convertToInteractive(key) {\n",
              "          const element = document.querySelector('#df-abf200b2-a5d8-4353-8af7-6d840296d7a8');\n",
              "          const dataTable =\n",
              "            await google.colab.kernel.invokeFunction('convertToInteractive',\n",
              "                                                     [key], {});\n",
              "          if (!dataTable) return;\n",
              "\n",
              "          const docLinkHtml = 'Like what you see? Visit the ' +\n",
              "            '<a target=\"_blank\" href=https://colab.research.google.com/notebooks/data_table.ipynb>data table notebook</a>'\n",
              "            + ' to learn more about interactive tables.';\n",
              "          element.innerHTML = '';\n",
              "          dataTable['output_type'] = 'display_data';\n",
              "          await google.colab.output.renderOutput(dataTable, element);\n",
              "          const docLink = document.createElement('div');\n",
              "          docLink.innerHTML = docLinkHtml;\n",
              "          element.appendChild(docLink);\n",
              "        }\n",
              "      </script>\n",
              "    </div>\n",
              "  </div>\n"
            ]
          },
          "metadata": {},
          "execution_count": 8
        }
      ]
    },
    {
      "cell_type": "markdown",
      "source": [
        "there are both numerical and categorical columns in the dataset, to be used in the machine learning model, categorical columns should be changed to numerical, labelencoder is used to process categorical columns."
      ],
      "metadata": {
        "id": "Hu6UT5Rl8XNj"
      }
    },
    {
      "cell_type": "code",
      "source": [
        "from sklearn.preprocessing import LabelEncoder, StandardScaler\n",
        "from sklearn.model_selection import train_test_split\n",
        "\n",
        "# Initialize label encoders for categorical columns\n",
        "le_conditions = LabelEncoder()\n",
        "le_gender = LabelEncoder()\n",
        "le_makeup = LabelEncoder()\n",
        "le_where = LabelEncoder()\n",
        "le_forwhom = LabelEncoder()\n",
        "le_reminder = LabelEncoder()\n",
        "\n",
        "# Create a true copy of the sliced dataframe\n",
        "new_dataframe = df[selected_columns].copy()\n",
        "\n",
        "# Re-encode categorical columns using .loc[]\n",
        "new_dataframe.loc[:, 'conditions'] = le_conditions.fit_transform(new_dataframe['conditions'])\n",
        "new_dataframe.loc[:, 'gender'] = le_gender.fit_transform(new_dataframe['gender'])\n",
        "new_dataframe.loc[:, 'makeup'] = le_makeup.fit_transform(new_dataframe['makeup'])\n",
        "new_dataframe.loc[:, 'where'] = le_where.fit_transform(new_dataframe['where'])\n",
        "new_dataframe.loc[:, 'forwhom'] = le_forwhom.fit_transform(new_dataframe['forwhom'])\n",
        "new_dataframe.loc[:, 'reminder'] = le_reminder.fit_transform(new_dataframe['reminder'])"
      ],
      "metadata": {
        "colab": {
          "base_uri": "https://localhost:8080/"
        },
        "id": "coDyKi9Yo4W2",
        "outputId": "03ffe06c-4a6e-42bd-ac9d-1d4a17e29ef4"
      },
      "execution_count": null,
      "outputs": [
        {
          "output_type": "stream",
          "name": "stderr",
          "text": [
            "<ipython-input-9-50aaa6c92170>:16: DeprecationWarning: In a future version, `df.iloc[:, i] = newvals` will attempt to set the values inplace instead of always setting a new array. To retain the old behavior, use either `df[df.columns[i]] = newvals` or, if columns are non-unique, `df.isetitem(i, newvals)`\n",
            "  new_dataframe.loc[:, 'conditions'] = le_conditions.fit_transform(new_dataframe['conditions'])\n",
            "<ipython-input-9-50aaa6c92170>:17: DeprecationWarning: In a future version, `df.iloc[:, i] = newvals` will attempt to set the values inplace instead of always setting a new array. To retain the old behavior, use either `df[df.columns[i]] = newvals` or, if columns are non-unique, `df.isetitem(i, newvals)`\n",
            "  new_dataframe.loc[:, 'gender'] = le_gender.fit_transform(new_dataframe['gender'])\n",
            "<ipython-input-9-50aaa6c92170>:18: DeprecationWarning: In a future version, `df.iloc[:, i] = newvals` will attempt to set the values inplace instead of always setting a new array. To retain the old behavior, use either `df[df.columns[i]] = newvals` or, if columns are non-unique, `df.isetitem(i, newvals)`\n",
            "  new_dataframe.loc[:, 'makeup'] = le_makeup.fit_transform(new_dataframe['makeup'])\n",
            "<ipython-input-9-50aaa6c92170>:19: DeprecationWarning: In a future version, `df.iloc[:, i] = newvals` will attempt to set the values inplace instead of always setting a new array. To retain the old behavior, use either `df[df.columns[i]] = newvals` or, if columns are non-unique, `df.isetitem(i, newvals)`\n",
            "  new_dataframe.loc[:, 'where'] = le_where.fit_transform(new_dataframe['where'])\n",
            "<ipython-input-9-50aaa6c92170>:20: DeprecationWarning: In a future version, `df.iloc[:, i] = newvals` will attempt to set the values inplace instead of always setting a new array. To retain the old behavior, use either `df[df.columns[i]] = newvals` or, if columns are non-unique, `df.isetitem(i, newvals)`\n",
            "  new_dataframe.loc[:, 'forwhom'] = le_forwhom.fit_transform(new_dataframe['forwhom'])\n",
            "<ipython-input-9-50aaa6c92170>:21: DeprecationWarning: In a future version, `df.iloc[:, i] = newvals` will attempt to set the values inplace instead of always setting a new array. To retain the old behavior, use either `df[df.columns[i]] = newvals` or, if columns are non-unique, `df.isetitem(i, newvals)`\n",
            "  new_dataframe.loc[:, 'reminder'] = le_reminder.fit_transform(new_dataframe['reminder'])\n"
          ]
        }
      ]
    },
    {
      "cell_type": "code",
      "source": [
        "# Split the data into training and testing sets (80% train, 20% test)\n",
        "X = new_dataframe.drop('reminder', axis=1)\n",
        "y = new_dataframe['reminder']\n",
        "X_train, X_test, y_train, y_test = train_test_split(X, y, test_size=0.2, random_state=42)"
      ],
      "metadata": {
        "id": "BU5IJsI09ApL"
      },
      "execution_count": null,
      "outputs": []
    },
    {
      "cell_type": "code",
      "source": [
        "# Feature scaling\n",
        "scaler = StandardScaler()\n",
        "X_train = scaler.fit_transform(X_train)\n",
        "X_test = scaler.transform(X_test)"
      ],
      "metadata": {
        "id": "yr1JK0rC9Fe6"
      },
      "execution_count": null,
      "outputs": []
    },
    {
      "cell_type": "code",
      "source": [
        "# Display the first few rows of the transformed dataframe\n",
        "new_dataframe.head()"
      ],
      "metadata": {
        "colab": {
          "base_uri": "https://localhost:8080/",
          "height": 206
        },
        "id": "VnP1iRk49Ir9",
        "outputId": "3156d733-e1e2-4c37-be32-8a5042963a77"
      },
      "execution_count": null,
      "outputs": [
        {
          "output_type": "execute_result",
          "data": {
            "text/plain": [
              "   uvindex  temp  conditions  cloudcover  age  gender  skintype  makeup  \\\n",
              "0      4.0  27.3           0         0.0   31       0         4       1   \n",
              "1      8.0  31.0           0         0.0   31       0         4       1   \n",
              "2     10.0  38.0           0         0.0   31       0         4       1   \n",
              "3      9.0  38.8           0         0.0   31       0         4       1   \n",
              "4      7.0  40.0           0         0.0   31       0         4       1   \n",
              "\n",
              "   where  SPF  forwhom  reminder_order  reminder  \n",
              "0      0   30        1               1         1  \n",
              "1      0   30        1               2         1  \n",
              "2      0   30        1               3         1  \n",
              "3      0   30        1               4         1  \n",
              "4      0   30        1               5         0  "
            ],
            "text/html": [
              "\n",
              "\n",
              "  <div id=\"df-65dfcd25-1e78-439d-9b88-590f3769f876\">\n",
              "    <div class=\"colab-df-container\">\n",
              "      <div>\n",
              "<style scoped>\n",
              "    .dataframe tbody tr th:only-of-type {\n",
              "        vertical-align: middle;\n",
              "    }\n",
              "\n",
              "    .dataframe tbody tr th {\n",
              "        vertical-align: top;\n",
              "    }\n",
              "\n",
              "    .dataframe thead th {\n",
              "        text-align: right;\n",
              "    }\n",
              "</style>\n",
              "<table border=\"1\" class=\"dataframe\">\n",
              "  <thead>\n",
              "    <tr style=\"text-align: right;\">\n",
              "      <th></th>\n",
              "      <th>uvindex</th>\n",
              "      <th>temp</th>\n",
              "      <th>conditions</th>\n",
              "      <th>cloudcover</th>\n",
              "      <th>age</th>\n",
              "      <th>gender</th>\n",
              "      <th>skintype</th>\n",
              "      <th>makeup</th>\n",
              "      <th>where</th>\n",
              "      <th>SPF</th>\n",
              "      <th>forwhom</th>\n",
              "      <th>reminder_order</th>\n",
              "      <th>reminder</th>\n",
              "    </tr>\n",
              "  </thead>\n",
              "  <tbody>\n",
              "    <tr>\n",
              "      <th>0</th>\n",
              "      <td>4.0</td>\n",
              "      <td>27.3</td>\n",
              "      <td>0</td>\n",
              "      <td>0.0</td>\n",
              "      <td>31</td>\n",
              "      <td>0</td>\n",
              "      <td>4</td>\n",
              "      <td>1</td>\n",
              "      <td>0</td>\n",
              "      <td>30</td>\n",
              "      <td>1</td>\n",
              "      <td>1</td>\n",
              "      <td>1</td>\n",
              "    </tr>\n",
              "    <tr>\n",
              "      <th>1</th>\n",
              "      <td>8.0</td>\n",
              "      <td>31.0</td>\n",
              "      <td>0</td>\n",
              "      <td>0.0</td>\n",
              "      <td>31</td>\n",
              "      <td>0</td>\n",
              "      <td>4</td>\n",
              "      <td>1</td>\n",
              "      <td>0</td>\n",
              "      <td>30</td>\n",
              "      <td>1</td>\n",
              "      <td>2</td>\n",
              "      <td>1</td>\n",
              "    </tr>\n",
              "    <tr>\n",
              "      <th>2</th>\n",
              "      <td>10.0</td>\n",
              "      <td>38.0</td>\n",
              "      <td>0</td>\n",
              "      <td>0.0</td>\n",
              "      <td>31</td>\n",
              "      <td>0</td>\n",
              "      <td>4</td>\n",
              "      <td>1</td>\n",
              "      <td>0</td>\n",
              "      <td>30</td>\n",
              "      <td>1</td>\n",
              "      <td>3</td>\n",
              "      <td>1</td>\n",
              "    </tr>\n",
              "    <tr>\n",
              "      <th>3</th>\n",
              "      <td>9.0</td>\n",
              "      <td>38.8</td>\n",
              "      <td>0</td>\n",
              "      <td>0.0</td>\n",
              "      <td>31</td>\n",
              "      <td>0</td>\n",
              "      <td>4</td>\n",
              "      <td>1</td>\n",
              "      <td>0</td>\n",
              "      <td>30</td>\n",
              "      <td>1</td>\n",
              "      <td>4</td>\n",
              "      <td>1</td>\n",
              "    </tr>\n",
              "    <tr>\n",
              "      <th>4</th>\n",
              "      <td>7.0</td>\n",
              "      <td>40.0</td>\n",
              "      <td>0</td>\n",
              "      <td>0.0</td>\n",
              "      <td>31</td>\n",
              "      <td>0</td>\n",
              "      <td>4</td>\n",
              "      <td>1</td>\n",
              "      <td>0</td>\n",
              "      <td>30</td>\n",
              "      <td>1</td>\n",
              "      <td>5</td>\n",
              "      <td>0</td>\n",
              "    </tr>\n",
              "  </tbody>\n",
              "</table>\n",
              "</div>\n",
              "      <button class=\"colab-df-convert\" onclick=\"convertToInteractive('df-65dfcd25-1e78-439d-9b88-590f3769f876')\"\n",
              "              title=\"Convert this dataframe to an interactive table.\"\n",
              "              style=\"display:none;\">\n",
              "\n",
              "  <svg xmlns=\"http://www.w3.org/2000/svg\" height=\"24px\"viewBox=\"0 0 24 24\"\n",
              "       width=\"24px\">\n",
              "    <path d=\"M0 0h24v24H0V0z\" fill=\"none\"/>\n",
              "    <path d=\"M18.56 5.44l.94 2.06.94-2.06 2.06-.94-2.06-.94-.94-2.06-.94 2.06-2.06.94zm-11 1L8.5 8.5l.94-2.06 2.06-.94-2.06-.94L8.5 2.5l-.94 2.06-2.06.94zm10 10l.94 2.06.94-2.06 2.06-.94-2.06-.94-.94-2.06-.94 2.06-2.06.94z\"/><path d=\"M17.41 7.96l-1.37-1.37c-.4-.4-.92-.59-1.43-.59-.52 0-1.04.2-1.43.59L10.3 9.45l-7.72 7.72c-.78.78-.78 2.05 0 2.83L4 21.41c.39.39.9.59 1.41.59.51 0 1.02-.2 1.41-.59l7.78-7.78 2.81-2.81c.8-.78.8-2.07 0-2.86zM5.41 20L4 18.59l7.72-7.72 1.47 1.35L5.41 20z\"/>\n",
              "  </svg>\n",
              "      </button>\n",
              "\n",
              "\n",
              "\n",
              "    <div id=\"df-41156d63-8a93-4c81-a07e-eaad344de9f8\">\n",
              "      <button class=\"colab-df-quickchart\" onclick=\"quickchart('df-41156d63-8a93-4c81-a07e-eaad344de9f8')\"\n",
              "              title=\"Suggest charts.\"\n",
              "              style=\"display:none;\">\n",
              "\n",
              "<svg xmlns=\"http://www.w3.org/2000/svg\" height=\"24px\"viewBox=\"0 0 24 24\"\n",
              "     width=\"24px\">\n",
              "    <g>\n",
              "        <path d=\"M19 3H5c-1.1 0-2 .9-2 2v14c0 1.1.9 2 2 2h14c1.1 0 2-.9 2-2V5c0-1.1-.9-2-2-2zM9 17H7v-7h2v7zm4 0h-2V7h2v10zm4 0h-2v-4h2v4z\"/>\n",
              "    </g>\n",
              "</svg>\n",
              "      </button>\n",
              "    </div>\n",
              "\n",
              "<style>\n",
              "  .colab-df-quickchart {\n",
              "    background-color: #E8F0FE;\n",
              "    border: none;\n",
              "    border-radius: 50%;\n",
              "    cursor: pointer;\n",
              "    display: none;\n",
              "    fill: #1967D2;\n",
              "    height: 32px;\n",
              "    padding: 0 0 0 0;\n",
              "    width: 32px;\n",
              "  }\n",
              "\n",
              "  .colab-df-quickchart:hover {\n",
              "    background-color: #E2EBFA;\n",
              "    box-shadow: 0px 1px 2px rgba(60, 64, 67, 0.3), 0px 1px 3px 1px rgba(60, 64, 67, 0.15);\n",
              "    fill: #174EA6;\n",
              "  }\n",
              "\n",
              "  [theme=dark] .colab-df-quickchart {\n",
              "    background-color: #3B4455;\n",
              "    fill: #D2E3FC;\n",
              "  }\n",
              "\n",
              "  [theme=dark] .colab-df-quickchart:hover {\n",
              "    background-color: #434B5C;\n",
              "    box-shadow: 0px 1px 3px 1px rgba(0, 0, 0, 0.15);\n",
              "    filter: drop-shadow(0px 1px 2px rgba(0, 0, 0, 0.3));\n",
              "    fill: #FFFFFF;\n",
              "  }\n",
              "</style>\n",
              "\n",
              "    <script>\n",
              "      async function quickchart(key) {\n",
              "        const containerElement = document.querySelector('#' + key);\n",
              "        const charts = await google.colab.kernel.invokeFunction(\n",
              "            'suggestCharts', [key], {});\n",
              "      }\n",
              "    </script>\n",
              "\n",
              "\n",
              "      <script>\n",
              "\n",
              "function displayQuickchartButton(domScope) {\n",
              "  let quickchartButtonEl =\n",
              "    domScope.querySelector('#df-41156d63-8a93-4c81-a07e-eaad344de9f8 button.colab-df-quickchart');\n",
              "  quickchartButtonEl.style.display =\n",
              "    google.colab.kernel.accessAllowed ? 'block' : 'none';\n",
              "}\n",
              "\n",
              "        displayQuickchartButton(document);\n",
              "      </script>\n",
              "      <style>\n",
              "    .colab-df-container {\n",
              "      display:flex;\n",
              "      flex-wrap:wrap;\n",
              "      gap: 12px;\n",
              "    }\n",
              "\n",
              "    .colab-df-convert {\n",
              "      background-color: #E8F0FE;\n",
              "      border: none;\n",
              "      border-radius: 50%;\n",
              "      cursor: pointer;\n",
              "      display: none;\n",
              "      fill: #1967D2;\n",
              "      height: 32px;\n",
              "      padding: 0 0 0 0;\n",
              "      width: 32px;\n",
              "    }\n",
              "\n",
              "    .colab-df-convert:hover {\n",
              "      background-color: #E2EBFA;\n",
              "      box-shadow: 0px 1px 2px rgba(60, 64, 67, 0.3), 0px 1px 3px 1px rgba(60, 64, 67, 0.15);\n",
              "      fill: #174EA6;\n",
              "    }\n",
              "\n",
              "    [theme=dark] .colab-df-convert {\n",
              "      background-color: #3B4455;\n",
              "      fill: #D2E3FC;\n",
              "    }\n",
              "\n",
              "    [theme=dark] .colab-df-convert:hover {\n",
              "      background-color: #434B5C;\n",
              "      box-shadow: 0px 1px 3px 1px rgba(0, 0, 0, 0.15);\n",
              "      filter: drop-shadow(0px 1px 2px rgba(0, 0, 0, 0.3));\n",
              "      fill: #FFFFFF;\n",
              "    }\n",
              "  </style>\n",
              "\n",
              "      <script>\n",
              "        const buttonEl =\n",
              "          document.querySelector('#df-65dfcd25-1e78-439d-9b88-590f3769f876 button.colab-df-convert');\n",
              "        buttonEl.style.display =\n",
              "          google.colab.kernel.accessAllowed ? 'block' : 'none';\n",
              "\n",
              "        async function convertToInteractive(key) {\n",
              "          const element = document.querySelector('#df-65dfcd25-1e78-439d-9b88-590f3769f876');\n",
              "          const dataTable =\n",
              "            await google.colab.kernel.invokeFunction('convertToInteractive',\n",
              "                                                     [key], {});\n",
              "          if (!dataTable) return;\n",
              "\n",
              "          const docLinkHtml = 'Like what you see? Visit the ' +\n",
              "            '<a target=\"_blank\" href=https://colab.research.google.com/notebooks/data_table.ipynb>data table notebook</a>'\n",
              "            + ' to learn more about interactive tables.';\n",
              "          element.innerHTML = '';\n",
              "          dataTable['output_type'] = 'display_data';\n",
              "          await google.colab.output.renderOutput(dataTable, element);\n",
              "          const docLink = document.createElement('div');\n",
              "          docLink.innerHTML = docLinkHtml;\n",
              "          element.appendChild(docLink);\n",
              "        }\n",
              "      </script>\n",
              "    </div>\n",
              "  </div>\n"
            ]
          },
          "metadata": {},
          "execution_count": 12
        }
      ]
    },
    {
      "cell_type": "code",
      "source": [
        "# Split the data into features and target variable\n",
        "X = new_dataframe.drop('reminder', axis=1)\n",
        "y = new_dataframe['reminder']"
      ],
      "metadata": {
        "id": "GjtngQLUq0nH"
      },
      "execution_count": null,
      "outputs": []
    },
    {
      "cell_type": "code",
      "source": [
        "# Feature scaling\n",
        "scaler = StandardScaler()\n",
        "X_scaled = scaler.fit_transform(X)"
      ],
      "metadata": {
        "id": "C_3rdfmH9RNQ"
      },
      "execution_count": null,
      "outputs": []
    },
    {
      "cell_type": "code",
      "source": [
        "# Split the scaled data into training and testing sets (80% train, 20% test)\n",
        "X_train, X_test, y_train, y_test = train_test_split(X_scaled, y, test_size=0.2, random_state=42)"
      ],
      "metadata": {
        "id": "R9M43F1H9VmZ"
      },
      "execution_count": null,
      "outputs": []
    },
    {
      "cell_type": "code",
      "source": [
        "# Display the shape of the training and testing sets\n",
        "X_train.shape, X_test.shape, y_train.shape, y_test.shap"
      ],
      "metadata": {
        "colab": {
          "base_uri": "https://localhost:8080/",
          "height": 322
        },
        "id": "qZ9xtnKk9YLr",
        "outputId": "bc34336e-a365-4d91-8a3f-ba2a680ee542"
      },
      "execution_count": null,
      "outputs": [
        {
          "output_type": "error",
          "ename": "AttributeError",
          "evalue": "ignored",
          "traceback": [
            "\u001b[0;31m---------------------------------------------------------------------------\u001b[0m",
            "\u001b[0;31mAttributeError\u001b[0m                            Traceback (most recent call last)",
            "\u001b[0;32m<ipython-input-16-a00c7f7da6fc>\u001b[0m in \u001b[0;36m<cell line: 2>\u001b[0;34m()\u001b[0m\n\u001b[1;32m      1\u001b[0m \u001b[0;31m# Display the shape of the training and testing sets\u001b[0m\u001b[0;34m\u001b[0m\u001b[0;34m\u001b[0m\u001b[0m\n\u001b[0;32m----> 2\u001b[0;31m \u001b[0mX_train\u001b[0m\u001b[0;34m.\u001b[0m\u001b[0mshape\u001b[0m\u001b[0;34m,\u001b[0m \u001b[0mX_test\u001b[0m\u001b[0;34m.\u001b[0m\u001b[0mshape\u001b[0m\u001b[0;34m,\u001b[0m \u001b[0my_train\u001b[0m\u001b[0;34m.\u001b[0m\u001b[0mshape\u001b[0m\u001b[0;34m,\u001b[0m \u001b[0my_test\u001b[0m\u001b[0;34m.\u001b[0m\u001b[0mshap\u001b[0m\u001b[0;34m\u001b[0m\u001b[0;34m\u001b[0m\u001b[0m\n\u001b[0m",
            "\u001b[0;32m/usr/local/lib/python3.10/dist-packages/pandas/core/generic.py\u001b[0m in \u001b[0;36m__getattr__\u001b[0;34m(self, name)\u001b[0m\n\u001b[1;32m   5900\u001b[0m         ):\n\u001b[1;32m   5901\u001b[0m             \u001b[0;32mreturn\u001b[0m \u001b[0mself\u001b[0m\u001b[0;34m[\u001b[0m\u001b[0mname\u001b[0m\u001b[0;34m]\u001b[0m\u001b[0;34m\u001b[0m\u001b[0;34m\u001b[0m\u001b[0m\n\u001b[0;32m-> 5902\u001b[0;31m         \u001b[0;32mreturn\u001b[0m \u001b[0mobject\u001b[0m\u001b[0;34m.\u001b[0m\u001b[0m__getattribute__\u001b[0m\u001b[0;34m(\u001b[0m\u001b[0mself\u001b[0m\u001b[0;34m,\u001b[0m \u001b[0mname\u001b[0m\u001b[0;34m)\u001b[0m\u001b[0;34m\u001b[0m\u001b[0;34m\u001b[0m\u001b[0m\n\u001b[0m\u001b[1;32m   5903\u001b[0m \u001b[0;34m\u001b[0m\u001b[0m\n\u001b[1;32m   5904\u001b[0m     \u001b[0;32mdef\u001b[0m \u001b[0m__setattr__\u001b[0m\u001b[0;34m(\u001b[0m\u001b[0mself\u001b[0m\u001b[0;34m,\u001b[0m \u001b[0mname\u001b[0m\u001b[0;34m:\u001b[0m \u001b[0mstr\u001b[0m\u001b[0;34m,\u001b[0m \u001b[0mvalue\u001b[0m\u001b[0;34m)\u001b[0m \u001b[0;34m->\u001b[0m \u001b[0;32mNone\u001b[0m\u001b[0;34m:\u001b[0m\u001b[0;34m\u001b[0m\u001b[0;34m\u001b[0m\u001b[0m\n",
            "\u001b[0;31mAttributeError\u001b[0m: 'Series' object has no attribute 'shap'"
          ]
        }
      ]
    },
    {
      "cell_type": "markdown",
      "source": [
        "# Logistic regression"
      ],
      "metadata": {
        "id": "-7Slw2Sp9ote"
      }
    },
    {
      "cell_type": "code",
      "source": [
        "from sklearn.linear_model import LogisticRegression\n",
        "from sklearn.metrics import accuracy_score, classification_report\n",
        "\n",
        "# Initialize a logistic regression model\n",
        "logreg = LogisticRegression(random_state=42)\n",
        "\n",
        "# Train the model on the training data\n",
        "logreg.fit(X_train, y_train)\n",
        "\n",
        "# Predict on the test set\n",
        "lg_y_pred = logreg.predict(X_test)\n",
        "\n",
        "# Calculate the accuracy of the model\n",
        "accuracy = accuracy_score(y_test, lg_y_pred)\n",
        "classification_rep = classification_report(y_test, lg_y_pred)\n",
        "\n",
        "accuracy, classification_rep\n"
      ],
      "metadata": {
        "colab": {
          "base_uri": "https://localhost:8080/"
        },
        "id": "A-OUZFQh_uhZ",
        "outputId": "fdc61d1d-a6c8-4889-da6e-0aa35f48ccf2"
      },
      "execution_count": null,
      "outputs": [
        {
          "output_type": "execute_result",
          "data": {
            "text/plain": [
              "(0.7857142857142857,\n",
              " '              precision    recall  f1-score   support\\n\\n           0       0.83      0.86      0.84       113\\n           1       0.69      0.64      0.66        55\\n\\n    accuracy                           0.79       168\\n   macro avg       0.76      0.75      0.75       168\\nweighted avg       0.78      0.79      0.78       168\\n')"
            ]
          },
          "metadata": {},
          "execution_count": 17
        }
      ]
    },
    {
      "cell_type": "markdown",
      "source": [
        "The Logistic Regression model achieved an accuracy of approximately\n",
        "78.57%, Overall, the model seems to perform decently well, with better performance for predicting the \"no reminder\" class compared to the \"reminder\" class."
      ],
      "metadata": {
        "id": "8dY9sq4qArKN"
      }
    },
    {
      "cell_type": "markdown",
      "source": [
        "# decision tree"
      ],
      "metadata": {
        "id": "Xse6f25W93vL"
      }
    },
    {
      "cell_type": "code",
      "source": [
        "from sklearn.tree import DecisionTreeClassifier\n",
        "from sklearn.metrics import accuracy_score, classification_report\n",
        "\n",
        "# Initialize a Decision Tree classifier\n",
        "clf = DecisionTreeClassifier(random_state=42)\n",
        "\n",
        "# Train the classifier on the training data\n",
        "clf.fit(X_train, y_train)\n",
        "\n",
        "# Predict on the test data\n",
        "dt_y_pred = clf.predict(X_test)\n",
        "\n",
        "# Calculate and display the accuracy\n",
        "accuracy = accuracy_score(y_test, dt_y_pred)\n",
        "classification_rep = classification_report(y_test, dt_y_pred)\n",
        "\n",
        "accuracy, classification_rep\n"
      ],
      "metadata": {
        "colab": {
          "base_uri": "https://localhost:8080/"
        },
        "id": "DtcN5xe2r7DL",
        "outputId": "3e148784-8e96-4945-bb74-ce44a558138f"
      },
      "execution_count": null,
      "outputs": [
        {
          "output_type": "execute_result",
          "data": {
            "text/plain": [
              "(0.7976190476190477,\n",
              " '              precision    recall  f1-score   support\\n\\n           0       0.88      0.81      0.84       113\\n           1       0.66      0.78      0.72        55\\n\\n    accuracy                           0.80       168\\n   macro avg       0.77      0.79      0.78       168\\nweighted avg       0.81      0.80      0.80       168\\n')"
            ]
          },
          "metadata": {},
          "execution_count": 18
        }
      ]
    },
    {
      "cell_type": "markdown",
      "source": [
        "The Decision Tree classifier achieved an accuracy of approximately 79.76% on the test set. Precision measures the proportion of correctly predicted positive observations out of the total predicted positives.Recall (Sensitivity) measures the proportion of actual positives that were identified correctly.F1-Score provides a balance between precision and recall. Support is the number of actual occurrences of the class in the test set."
      ],
      "metadata": {
        "id": "GqZo6ZaAsJi2"
      }
    },
    {
      "cell_type": "markdown",
      "source": [
        "# random forest"
      ],
      "metadata": {
        "id": "4BmB8ByE-L0z"
      }
    },
    {
      "cell_type": "code",
      "source": [
        "from sklearn.ensemble import RandomForestClassifier\n",
        "\n",
        "# Initialize a Random Forest classifier\n",
        "rf_clf = RandomForestClassifier(random_state=42, n_estimators=100)\n",
        "\n",
        "# Train the classifier on the training data\n",
        "rf_clf.fit(X_train, y_train)\n",
        "\n",
        "# Predict on the test data\n",
        "rf_y_pred = rf_clf.predict(X_test)\n",
        "\n",
        "# Calculate and display the accuracy\n",
        "rf_accuracy = accuracy_score(y_test, rf_y_pred)\n",
        "rf_classification_rep = classification_report(y_test, rf_y_pred)\n",
        "\n",
        "rf_accuracy, rf_classification_rep\n"
      ],
      "metadata": {
        "colab": {
          "base_uri": "https://localhost:8080/"
        },
        "id": "-qp78WR1sSc0",
        "outputId": "2887b97a-230e-4087-8116-b2f25cbeb925"
      },
      "execution_count": null,
      "outputs": [
        {
          "output_type": "execute_result",
          "data": {
            "text/plain": [
              "(0.8095238095238095,\n",
              " '              precision    recall  f1-score   support\\n\\n           0       0.87      0.84      0.86       113\\n           1       0.69      0.75      0.72        55\\n\\n    accuracy                           0.81       168\\n   macro avg       0.78      0.79      0.79       168\\nweighted avg       0.81      0.81      0.81       168\\n')"
            ]
          },
          "metadata": {},
          "execution_count": 19
        }
      ]
    },
    {
      "cell_type": "markdown",
      "source": [
        "The Random Forest classifier achieved an accuracy of approximately\n",
        "81.0%, which is a slight improvement over the Decision Tree classifier."
      ],
      "metadata": {
        "id": "Sp-r172EsxIk"
      }
    },
    {
      "cell_type": "markdown",
      "source": [
        "# K-Nearest Neighbors"
      ],
      "metadata": {
        "id": "QWt1UGr8-W09"
      }
    },
    {
      "cell_type": "code",
      "source": [
        "from sklearn.neighbors import KNeighborsClassifier\n",
        "\n",
        "# Initialize a KNN classifier with k=5\n",
        "knn_clf = KNeighborsClassifier(n_neighbors=5)\n",
        "\n",
        "# Train the classifier on the training data\n",
        "knn_clf.fit(X_train, y_train)\n",
        "\n",
        "# Predict on the test data\n",
        "knn_y_pred = knn_clf.predict(X_test)\n",
        "\n",
        "# Calculate and display the accuracy\n",
        "knn_accuracy = accuracy_score(y_test, knn_y_pred)\n",
        "knn_classification_rep = classification_report(y_test, knn_y_pred)\n",
        "\n",
        "knn_accuracy, knn_classification_rep\n"
      ],
      "metadata": {
        "colab": {
          "base_uri": "https://localhost:8080/"
        },
        "id": "TknMvCeausO8",
        "outputId": "fd05bee2-1754-4384-b269-2436dd7e7c73"
      },
      "execution_count": null,
      "outputs": [
        {
          "output_type": "execute_result",
          "data": {
            "text/plain": [
              "(0.7142857142857143,\n",
              " '              precision    recall  f1-score   support\\n\\n           0       0.78      0.81      0.79       113\\n           1       0.57      0.53      0.55        55\\n\\n    accuracy                           0.71       168\\n   macro avg       0.67      0.67      0.67       168\\nweighted avg       0.71      0.71      0.71       168\\n')"
            ]
          },
          "metadata": {},
          "execution_count": 20
        }
      ]
    },
    {
      "cell_type": "markdown",
      "source": [
        "The K-Nearest Neighbors (KNN) classifier achieved an accuracy of approximately\n",
        "71.4%"
      ],
      "metadata": {
        "id": "Y3Z4yIJAuvFm"
      }
    },
    {
      "cell_type": "code",
      "source": [
        "from sklearn.model_selection import cross_val_score\n",
        "import numpy as np\n",
        "\n",
        "# Define a range of k values to try\n",
        "k_values = list(range(1, 51))\n",
        "\n",
        "# Store cross-validation scores for each k value\n",
        "cv_scores = []\n",
        "\n",
        "# Perform cross-validation for each k value\n",
        "for k in k_values:\n",
        "    knn = KNeighborsClassifier(n_neighbors=k)\n",
        "    scores = cross_val_score(knn, X_train, y_train, cv=10, scoring='accuracy')\n",
        "    cv_scores.append(scores.mean())\n",
        "\n",
        "# Determine the best k value\n",
        "best_k = k_values[np.argmax(cv_scores)]\n",
        "best_accuracy = max(cv_scores)\n",
        "\n",
        "best_k, best_accuracy\n"
      ],
      "metadata": {
        "colab": {
          "base_uri": "https://localhost:8080/"
        },
        "id": "O4iLRv9lvHV0",
        "outputId": "bdee7fb3-4688-46de-8efd-7166d3e35c44"
      },
      "execution_count": null,
      "outputs": [
        {
          "output_type": "execute_result",
          "data": {
            "text/plain": [
              "(9, 0.7425373134328359)"
            ]
          },
          "metadata": {},
          "execution_count": 21
        }
      ]
    },
    {
      "cell_type": "code",
      "source": [
        "# Initialize a KNN classifier with the best k value\n",
        "knn_best = KNeighborsClassifier(n_neighbors=best_k)\n",
        "\n",
        "# Train the classifier on the training data\n",
        "knn_best.fit(X_train, y_train)\n",
        "\n",
        "# Predict on the test data\n",
        "knn_best_y_pred = knn_best.predict(X_test)\n",
        "\n",
        "# Calculate and display the accuracy\n",
        "knn_best_accuracy = accuracy_score(y_test, knn_best_y_pred)\n",
        "knn_best_classification_rep = classification_report(y_test, knn_best_y_pred)\n",
        "\n",
        "knn_best_accuracy, knn_best_classification_rep\n"
      ],
      "metadata": {
        "colab": {
          "base_uri": "https://localhost:8080/"
        },
        "id": "fcRMUQMevOso",
        "outputId": "af27ea2f-3c75-4a1b-dea9-d068030f39a2"
      },
      "execution_count": null,
      "outputs": [
        {
          "output_type": "execute_result",
          "data": {
            "text/plain": [
              "(0.7321428571428571,\n",
              " '              precision    recall  f1-score   support\\n\\n           0       0.78      0.84      0.81       113\\n           1       0.61      0.51      0.55        55\\n\\n    accuracy                           0.73       168\\n   macro avg       0.69      0.67      0.68       168\\nweighted avg       0.72      0.73      0.73       168\\n')"
            ]
          },
          "metadata": {},
          "execution_count": 22
        }
      ]
    },
    {
      "cell_type": "markdown",
      "source": [
        "\n",
        "k=9 achieved an accuracy of approximately 73.21%"
      ],
      "metadata": {
        "id": "-r-f6Z_OvUxN"
      }
    },
    {
      "cell_type": "markdown",
      "source": [
        "# Summary of models performance"
      ],
      "metadata": {
        "id": "Lkdf2TVb-2Tr"
      }
    },
    {
      "cell_type": "code",
      "source": [
        "# Metrics for logistic regression\n",
        "lg_metrics = classification_report(y_test, lg_y_pred, output_dict=True)\n",
        "\n",
        "# Metrics for Decision Tree\n",
        "dt_metrics = classification_report(y_test, dt_y_pred, output_dict=True)\n",
        "\n",
        "# Metrics for Random Forest\n",
        "rf_metrics = classification_report(y_test, rf_y_pred, output_dict=True)\n",
        "\n",
        "# Metrics for KNN with k=9\n",
        "knn_metrics = classification_report(y_test, knn_best_y_pred, output_dict=True)"
      ],
      "metadata": {
        "id": "tmt1wA5ivaq4"
      },
      "execution_count": null,
      "outputs": []
    },
    {
      "cell_type": "code",
      "source": [
        "# Summarize the metrics in a structured manner\n",
        "summary = {\n",
        "    \"Model\": [\"Logistic Regression\", \"Decision Tree\", \"Random Forest\", \"KNN (k=9)\"],\n",
        "    \"Accuracy\": [lg_metrics[\"accuracy\"], dt_metrics[\"accuracy\"], rf_metrics[\"accuracy\"], knn_metrics[\"accuracy\"]],\n",
        "    \"Precision (No)\": [lg_metrics[\"0\"][\"precision\"],dt_metrics[\"0\"][\"precision\"], rf_metrics[\"0\"][\"precision\"], knn_metrics[\"0\"][\"precision\"]],\n",
        "    \"Recall (No)\": [lg_metrics[\"0\"][\"recall\"],dt_metrics[\"0\"][\"recall\"], rf_metrics[\"0\"][\"recall\"], knn_metrics[\"0\"][\"recall\"]],\n",
        "    \"F1-Score (No)\": [lg_metrics[\"0\"][\"f1-score\"],dt_metrics[\"0\"][\"f1-score\"], rf_metrics[\"0\"][\"f1-score\"], knn_metrics[\"0\"][\"f1-score\"]],\n",
        "    \"Precision (Yes)\": [lg_metrics[\"1\"][\"precision\"],dt_metrics[\"1\"][\"precision\"], rf_metrics[\"1\"][\"precision\"], knn_metrics[\"1\"][\"precision\"]],\n",
        "    \"Recall (Yes)\": [lg_metrics[\"1\"][\"recall\"],dt_metrics[\"1\"][\"recall\"], rf_metrics[\"1\"][\"recall\"], knn_metrics[\"1\"][\"recall\"]],\n",
        "    \"F1-Score (Yes)\": [lg_metrics[\"1\"][\"f1-score\"],dt_metrics[\"1\"][\"f1-score\"], rf_metrics[\"1\"][\"f1-score\"], knn_metrics[\"1\"][\"f1-score\"]]\n",
        "}\n",
        "\n",
        "# Convert to DataFrame for display\n",
        "model_comparison = pd.DataFrame(summary)\n",
        "model_comparison"
      ],
      "metadata": {
        "colab": {
          "base_uri": "https://localhost:8080/",
          "height": 175
        },
        "id": "QGoDylUL-_Yb",
        "outputId": "ef1aa878-a3b6-4a7f-93f3-2cd37b88eab5"
      },
      "execution_count": null,
      "outputs": [
        {
          "output_type": "execute_result",
          "data": {
            "text/plain": [
              "                 Model  Accuracy  Precision (No)  Recall (No)  F1-Score (No)  \\\n",
              "0  Logistic Regression  0.785714        0.829060     0.858407       0.843478   \n",
              "1        Decision Tree  0.797619        0.883495     0.805310       0.842593   \n",
              "2        Random Forest  0.809524        0.871560     0.840708       0.855856   \n",
              "3            KNN (k=9)  0.732143        0.778689     0.840708       0.808511   \n",
              "\n",
              "   Precision (Yes)  Recall (Yes)  F1-Score (Yes)  \n",
              "0         0.686275      0.636364        0.660377  \n",
              "1         0.661538      0.781818        0.716667  \n",
              "2         0.694915      0.745455        0.719298  \n",
              "3         0.608696      0.509091        0.554455  "
            ],
            "text/html": [
              "\n",
              "\n",
              "  <div id=\"df-13c2df4f-537d-4dd9-9e0c-8f3408f4c27d\">\n",
              "    <div class=\"colab-df-container\">\n",
              "      <div>\n",
              "<style scoped>\n",
              "    .dataframe tbody tr th:only-of-type {\n",
              "        vertical-align: middle;\n",
              "    }\n",
              "\n",
              "    .dataframe tbody tr th {\n",
              "        vertical-align: top;\n",
              "    }\n",
              "\n",
              "    .dataframe thead th {\n",
              "        text-align: right;\n",
              "    }\n",
              "</style>\n",
              "<table border=\"1\" class=\"dataframe\">\n",
              "  <thead>\n",
              "    <tr style=\"text-align: right;\">\n",
              "      <th></th>\n",
              "      <th>Model</th>\n",
              "      <th>Accuracy</th>\n",
              "      <th>Precision (No)</th>\n",
              "      <th>Recall (No)</th>\n",
              "      <th>F1-Score (No)</th>\n",
              "      <th>Precision (Yes)</th>\n",
              "      <th>Recall (Yes)</th>\n",
              "      <th>F1-Score (Yes)</th>\n",
              "    </tr>\n",
              "  </thead>\n",
              "  <tbody>\n",
              "    <tr>\n",
              "      <th>0</th>\n",
              "      <td>Logistic Regression</td>\n",
              "      <td>0.785714</td>\n",
              "      <td>0.829060</td>\n",
              "      <td>0.858407</td>\n",
              "      <td>0.843478</td>\n",
              "      <td>0.686275</td>\n",
              "      <td>0.636364</td>\n",
              "      <td>0.660377</td>\n",
              "    </tr>\n",
              "    <tr>\n",
              "      <th>1</th>\n",
              "      <td>Decision Tree</td>\n",
              "      <td>0.797619</td>\n",
              "      <td>0.883495</td>\n",
              "      <td>0.805310</td>\n",
              "      <td>0.842593</td>\n",
              "      <td>0.661538</td>\n",
              "      <td>0.781818</td>\n",
              "      <td>0.716667</td>\n",
              "    </tr>\n",
              "    <tr>\n",
              "      <th>2</th>\n",
              "      <td>Random Forest</td>\n",
              "      <td>0.809524</td>\n",
              "      <td>0.871560</td>\n",
              "      <td>0.840708</td>\n",
              "      <td>0.855856</td>\n",
              "      <td>0.694915</td>\n",
              "      <td>0.745455</td>\n",
              "      <td>0.719298</td>\n",
              "    </tr>\n",
              "    <tr>\n",
              "      <th>3</th>\n",
              "      <td>KNN (k=9)</td>\n",
              "      <td>0.732143</td>\n",
              "      <td>0.778689</td>\n",
              "      <td>0.840708</td>\n",
              "      <td>0.808511</td>\n",
              "      <td>0.608696</td>\n",
              "      <td>0.509091</td>\n",
              "      <td>0.554455</td>\n",
              "    </tr>\n",
              "  </tbody>\n",
              "</table>\n",
              "</div>\n",
              "      <button class=\"colab-df-convert\" onclick=\"convertToInteractive('df-13c2df4f-537d-4dd9-9e0c-8f3408f4c27d')\"\n",
              "              title=\"Convert this dataframe to an interactive table.\"\n",
              "              style=\"display:none;\">\n",
              "\n",
              "  <svg xmlns=\"http://www.w3.org/2000/svg\" height=\"24px\"viewBox=\"0 0 24 24\"\n",
              "       width=\"24px\">\n",
              "    <path d=\"M0 0h24v24H0V0z\" fill=\"none\"/>\n",
              "    <path d=\"M18.56 5.44l.94 2.06.94-2.06 2.06-.94-2.06-.94-.94-2.06-.94 2.06-2.06.94zm-11 1L8.5 8.5l.94-2.06 2.06-.94-2.06-.94L8.5 2.5l-.94 2.06-2.06.94zm10 10l.94 2.06.94-2.06 2.06-.94-2.06-.94-.94-2.06-.94 2.06-2.06.94z\"/><path d=\"M17.41 7.96l-1.37-1.37c-.4-.4-.92-.59-1.43-.59-.52 0-1.04.2-1.43.59L10.3 9.45l-7.72 7.72c-.78.78-.78 2.05 0 2.83L4 21.41c.39.39.9.59 1.41.59.51 0 1.02-.2 1.41-.59l7.78-7.78 2.81-2.81c.8-.78.8-2.07 0-2.86zM5.41 20L4 18.59l7.72-7.72 1.47 1.35L5.41 20z\"/>\n",
              "  </svg>\n",
              "      </button>\n",
              "\n",
              "\n",
              "\n",
              "    <div id=\"df-4136fd59-252a-413b-8932-405c6aa963cf\">\n",
              "      <button class=\"colab-df-quickchart\" onclick=\"quickchart('df-4136fd59-252a-413b-8932-405c6aa963cf')\"\n",
              "              title=\"Suggest charts.\"\n",
              "              style=\"display:none;\">\n",
              "\n",
              "<svg xmlns=\"http://www.w3.org/2000/svg\" height=\"24px\"viewBox=\"0 0 24 24\"\n",
              "     width=\"24px\">\n",
              "    <g>\n",
              "        <path d=\"M19 3H5c-1.1 0-2 .9-2 2v14c0 1.1.9 2 2 2h14c1.1 0 2-.9 2-2V5c0-1.1-.9-2-2-2zM9 17H7v-7h2v7zm4 0h-2V7h2v10zm4 0h-2v-4h2v4z\"/>\n",
              "    </g>\n",
              "</svg>\n",
              "      </button>\n",
              "    </div>\n",
              "\n",
              "<style>\n",
              "  .colab-df-quickchart {\n",
              "    background-color: #E8F0FE;\n",
              "    border: none;\n",
              "    border-radius: 50%;\n",
              "    cursor: pointer;\n",
              "    display: none;\n",
              "    fill: #1967D2;\n",
              "    height: 32px;\n",
              "    padding: 0 0 0 0;\n",
              "    width: 32px;\n",
              "  }\n",
              "\n",
              "  .colab-df-quickchart:hover {\n",
              "    background-color: #E2EBFA;\n",
              "    box-shadow: 0px 1px 2px rgba(60, 64, 67, 0.3), 0px 1px 3px 1px rgba(60, 64, 67, 0.15);\n",
              "    fill: #174EA6;\n",
              "  }\n",
              "\n",
              "  [theme=dark] .colab-df-quickchart {\n",
              "    background-color: #3B4455;\n",
              "    fill: #D2E3FC;\n",
              "  }\n",
              "\n",
              "  [theme=dark] .colab-df-quickchart:hover {\n",
              "    background-color: #434B5C;\n",
              "    box-shadow: 0px 1px 3px 1px rgba(0, 0, 0, 0.15);\n",
              "    filter: drop-shadow(0px 1px 2px rgba(0, 0, 0, 0.3));\n",
              "    fill: #FFFFFF;\n",
              "  }\n",
              "</style>\n",
              "\n",
              "    <script>\n",
              "      async function quickchart(key) {\n",
              "        const containerElement = document.querySelector('#' + key);\n",
              "        const charts = await google.colab.kernel.invokeFunction(\n",
              "            'suggestCharts', [key], {});\n",
              "      }\n",
              "    </script>\n",
              "\n",
              "\n",
              "      <script>\n",
              "\n",
              "function displayQuickchartButton(domScope) {\n",
              "  let quickchartButtonEl =\n",
              "    domScope.querySelector('#df-4136fd59-252a-413b-8932-405c6aa963cf button.colab-df-quickchart');\n",
              "  quickchartButtonEl.style.display =\n",
              "    google.colab.kernel.accessAllowed ? 'block' : 'none';\n",
              "}\n",
              "\n",
              "        displayQuickchartButton(document);\n",
              "      </script>\n",
              "      <style>\n",
              "    .colab-df-container {\n",
              "      display:flex;\n",
              "      flex-wrap:wrap;\n",
              "      gap: 12px;\n",
              "    }\n",
              "\n",
              "    .colab-df-convert {\n",
              "      background-color: #E8F0FE;\n",
              "      border: none;\n",
              "      border-radius: 50%;\n",
              "      cursor: pointer;\n",
              "      display: none;\n",
              "      fill: #1967D2;\n",
              "      height: 32px;\n",
              "      padding: 0 0 0 0;\n",
              "      width: 32px;\n",
              "    }\n",
              "\n",
              "    .colab-df-convert:hover {\n",
              "      background-color: #E2EBFA;\n",
              "      box-shadow: 0px 1px 2px rgba(60, 64, 67, 0.3), 0px 1px 3px 1px rgba(60, 64, 67, 0.15);\n",
              "      fill: #174EA6;\n",
              "    }\n",
              "\n",
              "    [theme=dark] .colab-df-convert {\n",
              "      background-color: #3B4455;\n",
              "      fill: #D2E3FC;\n",
              "    }\n",
              "\n",
              "    [theme=dark] .colab-df-convert:hover {\n",
              "      background-color: #434B5C;\n",
              "      box-shadow: 0px 1px 3px 1px rgba(0, 0, 0, 0.15);\n",
              "      filter: drop-shadow(0px 1px 2px rgba(0, 0, 0, 0.3));\n",
              "      fill: #FFFFFF;\n",
              "    }\n",
              "  </style>\n",
              "\n",
              "      <script>\n",
              "        const buttonEl =\n",
              "          document.querySelector('#df-13c2df4f-537d-4dd9-9e0c-8f3408f4c27d button.colab-df-convert');\n",
              "        buttonEl.style.display =\n",
              "          google.colab.kernel.accessAllowed ? 'block' : 'none';\n",
              "\n",
              "        async function convertToInteractive(key) {\n",
              "          const element = document.querySelector('#df-13c2df4f-537d-4dd9-9e0c-8f3408f4c27d');\n",
              "          const dataTable =\n",
              "            await google.colab.kernel.invokeFunction('convertToInteractive',\n",
              "                                                     [key], {});\n",
              "          if (!dataTable) return;\n",
              "\n",
              "          const docLinkHtml = 'Like what you see? Visit the ' +\n",
              "            '<a target=\"_blank\" href=https://colab.research.google.com/notebooks/data_table.ipynb>data table notebook</a>'\n",
              "            + ' to learn more about interactive tables.';\n",
              "          element.innerHTML = '';\n",
              "          dataTable['output_type'] = 'display_data';\n",
              "          await google.colab.output.renderOutput(dataTable, element);\n",
              "          const docLink = document.createElement('div');\n",
              "          docLink.innerHTML = docLinkHtml;\n",
              "          element.appendChild(docLink);\n",
              "        }\n",
              "      </script>\n",
              "    </div>\n",
              "  </div>\n"
            ]
          },
          "metadata": {},
          "execution_count": 24
        }
      ]
    },
    {
      "cell_type": "markdown",
      "source": [
        "Accuracy shoewed the overall proportion of correct predictions, random forest had the highest accuracy, 80.95%, while it was not significant high compared with logistic regression and decision tree. Precision measured the proportion of correctly predicted positive observations out of the total predicted positives for each class.Recall (or Sensitivity) measured the proportion of actual positives that were identified correctly for each class.F1-Score provided a balance between precision and recall for each class. Random Forest had the highest accuracy and generally well-balanced Precision, Recall, and F1-Score values across both classes.Decision tree is close in performance, with slightly lower values for most metrics compared to the Random Forest.KNN (k=9) laged in performance metrics compared to the other two, especially for the \"Yes\" class.Based on all the metrics, Random Forest is the most robust and well-performing model among the four for this dataset."
      ],
      "metadata": {
        "id": "kLMGlV3wwrqr"
      }
    },
    {
      "cell_type": "code",
      "source": [
        "# save the model\n",
        "import joblib\n",
        "save_path = \"gdrive/My Drive/random_forest_model.pkl\"\n",
        "joblib.dump(rf_clf, save_path)"
      ],
      "metadata": {
        "id": "ZVI0Jsx_w1m1",
        "colab": {
          "base_uri": "https://localhost:8080/"
        },
        "outputId": "2eb7b9c3-0f64-4dbf-b3f4-273805c8f6db"
      },
      "execution_count": null,
      "outputs": [
        {
          "output_type": "execute_result",
          "data": {
            "text/plain": [
              "['gdrive/My Drive/random_forest_model.pkl']"
            ]
          },
          "metadata": {},
          "execution_count": 25
        }
      ]
    }
  ]
}